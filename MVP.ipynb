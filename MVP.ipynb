{
 "cells": [
  {
   "cell_type": "code",
   "execution_count": null,
   "metadata": {
    "colab": {
     "base_uri": "https://localhost:8080/",
     "height": 0
    },
    "id": "9oScXwz1mqB-",
    "outputId": "f99dd93e-69a7-4a1f-f5fc-1d6f01ac2d5b"
   },
   "outputs": [],
   "source": [
    "import pandas as pd\n",
    "import io\n",
    "\n",
    "nelex_df = pd.read_csv('nelex_NGA.csv')\n",
    "nelex_df.head()"
   ]
  },
  {
   "cell_type": "code",
   "execution_count": null,
   "metadata": {},
   "outputs": [],
   "source": [
    "microfinance_df = pd.read_csv(\"microfinance_NGA.csv\")\n",
    "microfinance_df.head()"
   ]
  },
  {
   "cell_type": "code",
   "execution_count": null,
   "metadata": {
    "colab": {
     "base_uri": "https://localhost:8080/",
     "height": 0
    },
    "id": "j7HP1Rqin6T2",
    "outputId": "362847ee-92cb-4b79-f30e-235639ca3301"
   },
   "outputs": [],
   "source": [
    "!pip install geopy geopandas plotly\n",
    "from geopy.geocoders import Nominatim\n",
    "import geopandas as gpd\n",
    "import plotly.express as px\n",
    "from shapely.geometry import Point\n"
   ]
  },
  {
   "cell_type": "code",
   "execution_count": null,
   "metadata": {
    "id": "KonuJrx0o-kS"
   },
   "outputs": [],
   "source": [
    "# Initialize geolocator\n",
    "geolocator = Nominatim(user_agent=\"nigeria_map\")\n",
    "\n",
    "# Function to geocode addresses\n",
    "def geocode_address(address):\n",
    "    try:\n",
    "        location = geolocator.geocode(address)\n",
    "        return location.latitude, location.longitude\n",
    "    except:\n",
    "        return None, None\n",
    "\n",
    "# Geocode NELEX office addresses\n",
    "nelex_df[['latitude', 'longitude']] = nelex_df['nelex_address'].apply(\n",
    "    lambda x: pd.Series(geocode_address(x))\n",
    ")\n",
    "\n",
    "# Geocode microfinance bank addresses\n",
    "microfinance_df[['latitude', 'longitude']] = microfinance_df['microfinance_address'].apply(\n",
    "    lambda x: pd.Series(geocode_address(x))\n",
    ")\n",
    "\n",
    "# Drop any rows where geocoding failed\n",
    "nelex_df.dropna(subset=['latitude', 'longitude'], inplace=True)\n",
    "microfinance_df.dropna(subset=['latitude', 'longitude'], inplace=True)\n",
    "\n",
    "# Convert to GeoDataFrames\n",
    "nelex_df['geometry'] = nelex_df.apply(lambda row: Point(row['longitude'], row['latitude']), axis=1)\n",
    "nelex_gdf = gpd.GeoDataFrame(nelex_df, geometry='geometry')\n",
    "\n",
    "microfinance_df['geometry'] = microfinance_df.apply(lambda row: Point(row['longitude'], row['latitude']), axis=1)\n",
    "microfinance_gdf = gpd.GeoDataFrame(microfinance_df, geometry='geometry')"
   ]
  },
  {
   "cell_type": "code",
   "execution_count": null,
   "metadata": {
    "id": "zDjzlwKwthX-"
   },
   "outputs": [],
   "source": [
    "# Load Nigeria shapefile\n",
    "nigeria_gdf = gpd.read_file(\"shapefile_NGA_shp\")"
   ]
  },
  {
   "cell_type": "code",
   "execution_count": null,
   "metadata": {
    "colab": {
     "base_uri": "https://localhost:8080/",
     "height": 716
    },
    "id": "P4RBfbhsqwYw",
    "outputId": "0047abc3-8948-4f9d-8bde-cbd0fba3726f"
   },
   "outputs": [],
   "source": [
    "# Convert geometries to latitude and longitude for Plotly\n",
    "nelex_df['lon'] = nelex_df['geometry'].apply(lambda point: point.x)\n",
    "nelex_df['lat'] = nelex_df['geometry'].apply(lambda point: point.y)\n",
    "\n",
    "microfinance_df['lon'] = microfinance_df['geometry'].apply(lambda point: point.x)\n",
    "microfinance_df['lat'] = microfinance_df['geometry'].apply(lambda point: point.y)\n",
    "\n",
    "# Plot using Plotly\n",
    "fig = px.scatter_mapbox(\n",
    "    nigeria_gdf,  # Use nigeria_gdf for base map\n",
    "    lat=nigeria_gdf.geometry.centroid.y,  # Latitude for Nigeria (using centroid)\n",
    "    lon=nigeria_gdf.geometry.centroid.x,  # Longitude for Nigeria (using centroid)\n",
    "    color_discrete_sequence=[\"green\"],  # Distinct color for Nigeria\n",
    "    center={\"lat\": 9.0820, \"lon\": 8.6753},  # Center on Nigeria\n",
    "    zoom=4,\n",
    "    mapbox_style=\"carto-positron\",  # Setting map style\n",
    "    hover_data=['COUNTRY'] # Display the name of Nigeria on hover\n",
    ")\n",
    "\n",
    "# Add NELEX offices to the map as a separate trace\n",
    "fig.add_trace(\n",
    "    px.scatter_mapbox(\n",
    "        nelex_df,\n",
    "        lat=\"lat\",\n",
    "        lon=\"lon\",\n",
    "        color_discrete_sequence=[\"blue\"], # Distinct color for NELEX markers\n",
    "        hover_data=['nelex_office'] # Display NELEX center name on hover\n",
    "    ).data[0]\n",
    ")\n",
    "\n",
    "# Add microfinance banks to the map as a separate trace\n",
    "fig.add_trace(\n",
    "    px.scatter_mapbox(\n",
    "        microfinance_df,\n",
    "        lat=\"lat\",\n",
    "        lon=\"lon\",\n",
    "        color_discrete_sequence=[\"red\"], # Distinct color for microfinance markers\n",
    "        hover_data=['microfinance_bank'] # Display microfinance bank name on hover\n",
    "    ).data[0]\n",
    ")\n",
    "\n",
    "# Update layout for better visualization\n",
    "fig.update_layout(\n",
    "    title=\"Locations of NELEX Centers and Microfinance Banks in Nigeria\",\n",
    "    mapbox=dict(\n",
    "        zoom=4.65\n",
    "    ),\n",
    "    legend=dict(\n",
    "        title=\"Legend\",\n",
    "        orientation=\"h\"\n",
    "    )\n",
    ")\n",
    "\n",
    "fig.show()"
   ]
  }
 ],
 "metadata": {
  "colab": {
   "provenance": []
  },
  "kernelspec": {
   "display_name": "Python 3",
   "name": "python3"
  },
  "language_info": {
   "codemirror_mode": {
    "name": "ipython",
    "version": 3
   },
   "file_extension": ".py",
   "mimetype": "text/x-python",
   "name": "python",
   "nbconvert_exporter": "python",
   "pygments_lexer": "ipython3",
   "version": "3.12.1"
  }
 },
 "nbformat": 4,
 "nbformat_minor": 0
}
