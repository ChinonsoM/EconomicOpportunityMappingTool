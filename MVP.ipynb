{
<<<<<<< HEAD
 "cells": [
  {
   "cell_type": "code",
   "execution_count": 8,
   "metadata": {
    "colab": {
     "base_uri": "https://localhost:8080/",
     "height": 0
    },
    "id": "9oScXwz1mqB-",
    "outputId": "f99dd93e-69a7-4a1f-f5fc-1d6f01ac2d5b"
   },
   "outputs": [
    {
     "data": {
      "text/html": [
       "<div>\n",
       "<style scoped>\n",
       "    .dataframe tbody tr th:only-of-type {\n",
       "        vertical-align: middle;\n",
       "    }\n",
       "\n",
       "    .dataframe tbody tr th {\n",
       "        vertical-align: top;\n",
       "    }\n",
       "\n",
       "    .dataframe thead th {\n",
       "        text-align: right;\n",
       "    }\n",
       "</style>\n",
       "<table border=\"1\" class=\"dataframe\">\n",
       "  <thead>\n",
       "    <tr style=\"text-align: right;\">\n",
       "      <th></th>\n",
       "      <th>nelex_office</th>\n",
       "      <th>nelex_address</th>\n",
       "    </tr>\n",
       "  </thead>\n",
       "  <tbody>\n",
       "    <tr>\n",
       "      <th>0</th>\n",
       "      <td>Federal Ministry of Labour and Employment, Fed...</td>\n",
       "      <td>Sheu Shagari Way, P.M.B 04, Garki, Abuja, Nigeria</td>\n",
       "    </tr>\n",
       "    <tr>\n",
       "      <th>1</th>\n",
       "      <td>Federal Ministry of Labour and Employment</td>\n",
       "      <td>16 Dilibe Street, Amudo Village, Awka, Anambra...</td>\n",
       "    </tr>\n",
       "    <tr>\n",
       "      <th>2</th>\n",
       "      <td>Federal Ministry of Labour and Employment, No.5</td>\n",
       "      <td>Yakubu - Gowon Way, Kaduna State, Nigeria</td>\n",
       "    </tr>\n",
       "    <tr>\n",
       "      <th>3</th>\n",
       "      <td>Federal Ministry of Labour and Employment</td>\n",
       "      <td>Cardinal Olubunmi Okogie Road, Ikoyi, Lagos, P...</td>\n",
       "    </tr>\n",
       "    <tr>\n",
       "      <th>4</th>\n",
       "      <td>Federal Ministry of Labour and Employment, Fed...</td>\n",
       "      <td>Okpanam Road, Asaba, Delta State, Nigeria</td>\n",
       "    </tr>\n",
       "  </tbody>\n",
       "</table>\n",
       "</div>"
      ],
      "text/plain": [
       "                                        nelex_office  \\\n",
       "0  Federal Ministry of Labour and Employment, Fed...   \n",
       "1          Federal Ministry of Labour and Employment   \n",
       "2    Federal Ministry of Labour and Employment, No.5   \n",
       "3          Federal Ministry of Labour and Employment   \n",
       "4  Federal Ministry of Labour and Employment, Fed...   \n",
       "\n",
       "                                       nelex_address  \n",
       "0  Sheu Shagari Way, P.M.B 04, Garki, Abuja, Nigeria  \n",
       "1  16 Dilibe Street, Amudo Village, Awka, Anambra...  \n",
       "2          Yakubu - Gowon Way, Kaduna State, Nigeria  \n",
       "3  Cardinal Olubunmi Okogie Road, Ikoyi, Lagos, P...  \n",
       "4          Okpanam Road, Asaba, Delta State, Nigeria  "
      ]
     },
     "execution_count": 8,
     "metadata": {},
     "output_type": "execute_result"
    }
   ],
   "source": [
    "import pandas as pd\n",
    "import io\n",
    "\n",
    "nelex_df = pd.read_csv('nelex_NGA.csv')\n",
    "nelex_df.head()"
   ]
  },
  {
   "cell_type": "code",
   "execution_count": 7,
   "metadata": {},
   "outputs": [
    {
     "data": {
      "text/html": [
       "<div>\n",
       "<style scoped>\n",
       "    .dataframe tbody tr th:only-of-type {\n",
       "        vertical-align: middle;\n",
       "    }\n",
       "\n",
       "    .dataframe tbody tr th {\n",
       "        vertical-align: top;\n",
       "    }\n",
       "\n",
       "    .dataframe thead th {\n",
       "        text-align: right;\n",
       "    }\n",
       "</style>\n",
       "<table border=\"1\" class=\"dataframe\">\n",
       "  <thead>\n",
       "    <tr style=\"text-align: right;\">\n",
       "      <th></th>\n",
       "      <th>microfinance_bank</th>\n",
       "      <th>microfinance_address</th>\n",
       "    </tr>\n",
       "  </thead>\n",
       "  <tbody>\n",
       "    <tr>\n",
       "      <th>0</th>\n",
       "      <td>AACB Microfinance Bank Limited</td>\n",
       "      <td>Nnewi/Agulu Road. Adazi Ani Anambra state</td>\n",
       "    </tr>\n",
       "    <tr>\n",
       "      <th>1</th>\n",
       "      <td>AB Microfinance Bank Limited</td>\n",
       "      <td>No.9 Oba Akran Avenue. Ikeja Lagos state</td>\n",
       "    </tr>\n",
       "    <tr>\n",
       "      <th>2</th>\n",
       "      <td>Abatele Microfinance Bank Limited</td>\n",
       "      <td>Abatele Town Idemili Local Govt. Area Anambra ...</td>\n",
       "    </tr>\n",
       "    <tr>\n",
       "      <th>3</th>\n",
       "      <td>ABC Microfinance Bank Limited</td>\n",
       "      <td>Mission Road Okada Edo State</td>\n",
       "    </tr>\n",
       "    <tr>\n",
       "      <th>4</th>\n",
       "      <td>Abia State University Microfinance Bank Limited</td>\n",
       "      <td>Uturu Isuikuato LGA Abia State</td>\n",
       "    </tr>\n",
       "  </tbody>\n",
       "</table>\n",
       "</div>"
      ],
      "text/plain": [
       "                                 microfinance_bank  \\\n",
       "0                   AACB Microfinance Bank Limited   \n",
       "1                     AB Microfinance Bank Limited   \n",
       "2                Abatele Microfinance Bank Limited   \n",
       "3                    ABC Microfinance Bank Limited   \n",
       "4  Abia State University Microfinance Bank Limited   \n",
       "\n",
       "                                microfinance_address  \n",
       "0          Nnewi/Agulu Road. Adazi Ani Anambra state  \n",
       "1           No.9 Oba Akran Avenue. Ikeja Lagos state  \n",
       "2  Abatele Town Idemili Local Govt. Area Anambra ...  \n",
       "3                       Mission Road Okada Edo State  \n",
       "4                     Uturu Isuikuato LGA Abia State  "
      ]
     },
     "execution_count": 7,
     "metadata": {},
     "output_type": "execute_result"
    }
   ],
   "source": [
    "microfinance_df = pd.read_csv(\"microfinance_NGA.csv\")\n",
    "microfinance_df.head()"
   ]
  },
  {
   "cell_type": "code",
   "execution_count": null,
   "metadata": {
    "colab": {
     "base_uri": "https://localhost:8080/",
     "height": 0
    },
    "id": "j7HP1Rqin6T2",
    "outputId": "362847ee-92cb-4b79-f30e-235639ca3301"
   },
   "outputs": [
    {
     "name": "stdout",
     "output_type": "stream",
     "text": [
      "Requirement already satisfied: geopy in /usr/local/python/3.12.1/lib/python3.12/site-packages (2.4.1)\n",
      "Collecting geopandas\n",
      "  Downloading geopandas-1.0.1-py3-none-any.whl.metadata (2.2 kB)\n",
      "Requirement already satisfied: plotly in /home/codespace/.local/lib/python3.12/site-packages (5.24.1)\n",
      "Requirement already satisfied: geographiclib<3,>=1.52 in /usr/local/python/3.12.1/lib/python3.12/site-packages (from geopy) (2.0)\n",
      "Requirement already satisfied: numpy>=1.22 in /home/codespace/.local/lib/python3.12/site-packages (from geopandas) (2.1.1)\n",
      "Collecting pyogrio>=0.7.2 (from geopandas)\n",
      "  Downloading pyogrio-0.10.0-cp312-cp312-manylinux_2_28_x86_64.whl.metadata (5.5 kB)\n",
      "Requirement already satisfied: packaging in /home/codespace/.local/lib/python3.12/site-packages (from geopandas) (24.1)\n",
      "Requirement already satisfied: pandas>=1.4.0 in /home/codespace/.local/lib/python3.12/site-packages (from geopandas) (2.2.3)\n",
      "Collecting pyproj>=3.3.0 (from geopandas)\n",
      "  Downloading pyproj-3.7.0-cp312-cp312-manylinux_2_17_x86_64.manylinux2014_x86_64.whl.metadata (31 kB)\n",
      "Collecting shapely>=2.0.0 (from geopandas)\n",
      "  Downloading shapely-2.0.6-cp312-cp312-manylinux_2_17_x86_64.manylinux2014_x86_64.whl.metadata (7.0 kB)\n",
      "Requirement already satisfied: tenacity>=6.2.0 in /home/codespace/.local/lib/python3.12/site-packages (from plotly) (9.0.0)\n",
      "Requirement already satisfied: python-dateutil>=2.8.2 in /home/codespace/.local/lib/python3.12/site-packages (from pandas>=1.4.0->geopandas) (2.9.0.post0)\n",
      "Requirement already satisfied: pytz>=2020.1 in /home/codespace/.local/lib/python3.12/site-packages (from pandas>=1.4.0->geopandas) (2024.2)\n",
      "Requirement already satisfied: tzdata>=2022.7 in /home/codespace/.local/lib/python3.12/site-packages (from pandas>=1.4.0->geopandas) (2024.2)\n",
      "Requirement already satisfied: certifi in /home/codespace/.local/lib/python3.12/site-packages (from pyogrio>=0.7.2->geopandas) (2024.8.30)\n",
      "Requirement already satisfied: six>=1.5 in /home/codespace/.local/lib/python3.12/site-packages (from python-dateutil>=2.8.2->pandas>=1.4.0->geopandas) (1.16.0)\n",
      "Downloading geopandas-1.0.1-py3-none-any.whl (323 kB)\n",
      "Downloading pyogrio-0.10.0-cp312-cp312-manylinux_2_28_x86_64.whl (24.0 MB)\n",
      "\u001b[2K   \u001b[90m━━━━━━━━━━━━━━━━━━━━━━━━━━━━━━━━━━━━━━━━\u001b[0m \u001b[32m24.0/24.0 MB\u001b[0m \u001b[31m64.2 MB/s\u001b[0m eta \u001b[36m0:00:00\u001b[0m:00:01\u001b[0m\n",
      "\u001b[?25hDownloading pyproj-3.7.0-cp312-cp312-manylinux_2_17_x86_64.manylinux2014_x86_64.whl (9.5 MB)\n",
      "\u001b[2K   \u001b[90m━━━━━━━━━━━━━━━━━━━━━━━━━━━━━━━━━━━━━━━━\u001b[0m \u001b[32m9.5/9.5 MB\u001b[0m \u001b[31m52.6 MB/s\u001b[0m eta \u001b[36m0:00:00\u001b[0m\n",
      "\u001b[?25hDownloading shapely-2.0.6-cp312-cp312-manylinux_2_17_x86_64.manylinux2014_x86_64.whl (2.5 MB)\n",
      "\u001b[2K   \u001b[90m━━━━━━━━━━━━━━━━━━━━━━━━━━━━━━━━━━━━━━━━\u001b[0m \u001b[32m2.5/2.5 MB\u001b[0m \u001b[31m26.8 MB/s\u001b[0m eta \u001b[36m0:00:00\u001b[0m\n",
      "\u001b[?25hInstalling collected packages: shapely, pyproj, pyogrio, geopandas\n",
      "Successfully installed geopandas-1.0.1 pyogrio-0.10.0 pyproj-3.7.0 shapely-2.0.6\n",
      "\n",
      "\u001b[1m[\u001b[0m\u001b[34;49mnotice\u001b[0m\u001b[1;39;49m]\u001b[0m\u001b[39;49m A new release of pip is available: \u001b[0m\u001b[31;49m24.2\u001b[0m\u001b[39;49m -> \u001b[0m\u001b[32;49m24.3.1\u001b[0m\n",
      "\u001b[1m[\u001b[0m\u001b[34;49mnotice\u001b[0m\u001b[1;39;49m]\u001b[0m\u001b[39;49m To update, run: \u001b[0m\u001b[32;49mpython3 -m pip install --upgrade pip\u001b[0m\n"
     ]
    }
   ],
   "source": [
    "!pip install geopy geopandas plotly\n",
    "from geopy.geocoders import Nominatim\n",
    "import geopandas as gpd\n",
    "import plotly.express as px\n",
    "from shapely.geometry import Point\n"
   ]
  },
  {
   "cell_type": "code",
   "execution_count": 13,
   "metadata": {
    "id": "KonuJrx0o-kS"
   },
   "outputs": [],
   "source": [
    "# Initialize geolocator\n",
    "geolocator = Nominatim(user_agent=\"nigeria_map\")\n",
    "\n",
    "# Function to geocode addresses\n",
    "def geocode_address(address):\n",
    "    try:\n",
    "        location = geolocator.geocode(address)\n",
    "        return location.latitude, location.longitude\n",
    "    except:\n",
    "        return None, None\n",
    "\n",
    "# Geocode NELEX office addresses\n",
    "nelex_df[['latitude', 'longitude']] = nelex_df['nelex_address'].apply(\n",
    "    lambda x: pd.Series(geocode_address(x))\n",
    ")\n",
    "\n",
    "# Geocode microfinance bank addresses\n",
    "microfinance_df[['latitude', 'longitude']] = microfinance_df['microfinance_address'].apply(\n",
    "    lambda x: pd.Series(geocode_address(x))\n",
    ")\n",
    "\n",
    "# Drop any rows where geocoding failed\n",
    "nelex_df.dropna(subset=['latitude', 'longitude'], inplace=True)\n",
    "microfinance_df.dropna(subset=['latitude', 'longitude'], inplace=True)\n",
    "\n",
    "# Convert to GeoDataFrames\n",
    "nelex_df['geometry'] = nelex_df.apply(lambda row: Point(row['longitude'], row['latitude']), axis=1)\n",
    "nelex_gdf = gpd.GeoDataFrame(nelex_df, geometry='geometry')\n",
    "\n",
    "microfinance_df['geometry'] = microfinance_df.apply(lambda row: Point(row['longitude'], row['latitude']), axis=1)\n",
    "microfinance_gdf = gpd.GeoDataFrame(microfinance_df, geometry='geometry')"
   ]
  },
  {
   "cell_type": "code",
   "execution_count": 11,
   "metadata": {
    "id": "zDjzlwKwthX-"
   },
   "outputs": [
    {
     "name": "stderr",
     "output_type": "stream",
     "text": [
      "/usr/local/python/3.12.1/lib/python3.12/site-packages/pyogrio/geopandas.py:265: UserWarning: More than one layer found in 'shapefile_NGA_shp': 'gadm41_NGA_0' (default), 'gadm41_NGA_1', 'gadm41_NGA_2'. Specify layer parameter to avoid this warning.\n",
      "  result = read_func(\n"
     ]
    }
   ],
   "source": [
    "# Load Nigeria shapefile\n",
    "nigeria_gdf = gpd.read_file(\"shapefile_NGA_shp\")"
   ]
  },
  {
   "cell_type": "code",
   "execution_count": 14,
   "metadata": {
    "colab": {
     "base_uri": "https://localhost:8080/",
     "height": 716
    },
    "id": "P4RBfbhsqwYw",
    "outputId": "0047abc3-8948-4f9d-8bde-cbd0fba3726f"
   },
   "outputs": [
    {
     "name": "stderr",
     "output_type": "stream",
     "text": [
      "/tmp/ipykernel_3465/502216750.py:11: UserWarning:\n",
      "\n",
      "Geometry is in a geographic CRS. Results from 'centroid' are likely incorrect. Use 'GeoSeries.to_crs()' to re-project geometries to a projected CRS before this operation.\n",
      "\n",
      "\n",
      "/tmp/ipykernel_3465/502216750.py:12: UserWarning:\n",
      "\n",
      "Geometry is in a geographic CRS. Results from 'centroid' are likely incorrect. Use 'GeoSeries.to_crs()' to re-project geometries to a projected CRS before this operation.\n",
      "\n",
      "\n"
     ]
    },
    {
     "data": {
      "application/vnd.plotly.v1+json": {
       "config": {
        "plotlyServerURL": "https://plot.ly"
       },
       "data": [
        {
         "customdata": [
          [
           "Nigeria"
          ]
         ],
         "hovertemplate": "lat=%{lat}<br>lon=%{lon}<br>COUNTRY=%{customdata[0]}<extra></extra>",
         "lat": [
          9.592267701675834
         ],
         "legendgroup": "",
         "lon": [
          8.09757500646277
         ],
         "marker": {
          "color": "green"
         },
         "mode": "markers",
         "name": "",
         "showlegend": false,
         "subplot": "mapbox",
         "type": "scattermapbox"
        },
        {
         "customdata": [
          [
           "Federal Ministry of Labour and Employment, Federal Secretariat Complex, Room 24"
          ],
          [
           "Federal Ministry of Labour and Employment, Federal Secretariat Complex, Ground Floor"
          ],
          [
           "Federal Ministry of Labour and Employment, Federal Secretariat Complex, 8th Floor"
          ],
          [
           "National Productivity Centre (NPC)"
          ]
         ],
         "hovertemplate": "lat=%{lat}<br>lon=%{lon}<br>nelex_office=%{customdata[0]}<extra></extra>",
         "lat": [
          10.3147618,
          5.489736,
          4.8495575,
          9.068049638637435
         ],
         "legendgroup": "",
         "lon": [
          9.8454417,
          7.0341973,
          7.0532711,
          7.4415273123236005
         ],
         "marker": {
          "color": "blue"
         },
         "mode": "markers",
         "name": "",
         "showlegend": false,
         "subplot": "mapbox",
         "type": "scattermapbox"
        },
        {
         "customdata": [
          [
           "Addosser Microfinance Bank Limited"
          ],
          [
           "Advance Microfinance Bank Limited"
          ],
          [
           "Alvana Microfinance Bank Limited"
          ],
          [
           "AMJU Microfinance Bank Limited"
          ],
          [
           "Assets Microfinance Bank Limited"
          ],
          [
           "Awka Microfinance Bank Limited"
          ],
          [
           "Bayero University Microfinance Bank Limited"
          ],
          [
           "Bethel Microfinance Bank Limited"
          ],
          [
           "Bigthana Microfinance Bank Limited"
          ],
          [
           "Biztrust Microfinance Bank LImited"
          ],
          [
           "BOI Microfinance Bank Limited"
          ],
          [
           "Boig Microfinance Bank Limited"
          ],
          [
           "Broadview Microfinance Bank Limited"
          ],
          [
           "Capstone Microfinance Bank Limited"
          ],
          [
           "Carbon Microfinance Bank Limited"
          ],
          [
           "Cash Cow Microfinance Bank Limited"
          ],
          [
           "Cedar Microfinance Bank Limited"
          ],
          [
           "Chanelle Microfinance Bank Limited"
          ],
          [
           "Chidera Microfinance Bank Limited"
          ],
          [
           "Coastline Microfinance Bank Limited"
          ],
          [
           "Confidence Microfinance Bank Limited"
          ],
          [
           "Confluence Microfinance Bank Limited"
          ],
          [
           "Credit Express Microfinance Bank Limited"
          ],
          [
           "Creditlink Microfinance Bank Limited"
          ],
          [
           "Eagle Flight Microfinance Bank Limited"
          ],
          [
           "East-Gate Microfinance Bank Limited"
          ],
          [
           "e-Barcs Microfinance Bank Limited"
          ],
          [
           "Finatrust Microfinance Bank Limited"
          ],
          [
           "FINCA Microfinance Bank Limited"
          ],
          [
           "Fufore Microfinance Bank Limited"
          ],
          [
           "FUT Minna Microfinance Bank Limited"
          ],
          [
           "Future Growth Microfinance Bank Limited"
          ],
          [
           "Hybrid Microfinance Bank LImited"
          ],
          [
           "Ibu-Aje Microfinance Bank Limited"
          ],
          [
           "Ilobu Microfinance Bank Limited"
          ],
          [
           "IMSU Microfinance Bank Limited"
          ],
          [
           "IMT Microfinance Bank Limited"
          ],
          [
           "Ipodo-Ikeja Microfinance Bank Limited"
          ],
          [
           "Ivie Microfinance Bank Limited"
          ],
          [
           "KCMB Microfinance Bank Ltd"
          ],
          [
           "King Solomon Microfinance Bank LImited"
          ],
          [
           "Landgold Microfinance Bank Limited"
          ],
          [
           "Main Trust Microfinance Bank Limited"
          ],
          [
           "Maritime Microfinance Bank Limited"
          ],
          [
           "MBA Microfinance Bank Limited"
          ],
          [
           "Mgbidi Microfinance Bank Limited"
          ],
          [
           "Midland Microfinance Bank Limited"
          ],
          [
           "Minji-Se Churchill Microfinance Bank Limited"
          ],
          [
           "Mountaintop (Mayfield) Microfinance Bank Limited"
          ],
          [
           "Namoda Microfinance Bank Limited"
          ],
          [
           "New Golden Pastures Microfinance Bank Limited"
          ],
          [
           "Novel Microfinance Bank LImited"
          ],
          [
           "NUT Endwell Microfinance Bank Limited"
          ],
          [
           "Ohha Microfinance Bank Limited"
          ],
          [
           "Okuta Microfinance Bank Limited"
          ],
          [
           "Olive Microfinance Bank Limited"
          ],
          [
           "Olofin Microfinance Bank Limited"
          ],
          [
           null
          ],
          [
           "Owotutu Microfinance Bank Limited"
          ],
          [
           "Page Credit Microfinance Bank Limited"
          ],
          [
           "Parallex Microfinance Bank Limited"
          ],
          [
           "Partnership Microfinance Bank Limited"
          ],
          [
           "Peace Microfinance Bank Limited"
          ],
          [
           "Personal Trust Microfinance Bank Limited"
          ],
          [
           "Pillar Microfinance Bank Limited"
          ],
          [
           "Polyunwana Microfinance Bank Limited"
          ],
          [
           "Premium Microfinance Bank Limited"
          ],
          [
           "Prisco Microfinance Bank Limited"
          ],
          [
           "Prosperity Microfinance Bank Limited"
          ],
          [
           "RenMoney (Rencredit) Microfinance Bank Limited"
          ],
          [
           "RIC Microfinance Bank Limited"
          ],
          [
           "Riverside Microfinance Bank Limited"
          ],
          [
           "Royal Blue Microfinance Bank Limited"
          ],
          [
           "Sabon Yelwa Microfinance Bank Limited"
          ],
          [
           "Sanchi Microfinance Bank Limited"
          ],
          [
           "Sapphire Microfinance Bank Limited"
          ],
          [
           "Saviour Microfinance Bank Limited"
          ],
          [
           "Shinkafi Microfinance Bank Limited"
          ],
          [
           "Solid Allianz Microfinance Bank Limited"
          ],
          [
           "Sovereign Microfinance Bank Limited"
          ],
          [
           "Splendid Microfinance Bank Limited"
          ],
          [
           "Stallion Microfinance Bank Limited"
          ],
          [
           "Topclass Microfinance Bank Limited"
          ],
          [
           "Touchgold Microfinance Bank Limited"
          ],
          [
           "UNAAB Microfinance Bank Limited"
          ],
          [
           "UNN Microfinance Bank Limited"
          ],
          [
           "Wetland Microfinance Bank Limited"
          ]
         ],
         "hovertemplate": "lat=%{lat}<br>lon=%{lon}<br>microfinance_bank=%{customdata[0]}<extra></extra>",
         "lat": [
          6.4509459,
          5.034950711903823,
          5.5002316,
          5.5412642,
          6.54188290988921,
          6.223677469254275,
          11.9703215,
          6.423131727393315,
          10.56140900218649,
          6.601638489570713,
          6.448513380008572,
          6.458894468581737,
          6.452122124842403,
          6.450909463439982,
          6.4381523765572855,
          6.450909463439982,
          6.5124331242913245,
          6.456096762454715,
          6.458129774762952,
          5.525596280688994,
          8.48783546090621,
          7.8091635430269815,
          6.452086509133762,
          9.023890699999999,
          5.52811,
          5.1157869,
          9.06472151217774,
          6.596291600000001,
          5.475707878578819,
          9.178215212655449,
          9.5306701,
          9.068049638637435,
          6.452700231471402,
          7.78100061722481,
          7.819279326668976,
          5.50522735,
          6.4289032,
          6.607597782172943,
          6.323626469206512,
          8.48783546090621,
          6.490106136063731,
          6.6788709448889385,
          6.5451750371515525,
          6.440443995161821,
          7.431746457691963,
          5.699723213864232,
          4.8022998999999995,
          4.7518726103452495,
          6.4943174358137465,
          12.477330649999999,
          5.537422297687373,
          6.481521483875685,
          10.513279587887462,
          6.44776030133103,
          6.34303219840833,
          6.607597782172943,
          7.48653865,
          46.3144754,
          6.536185319575491,
          6.443787036512052,
          6.5992475840722635,
          6.143395931609321,
          9.06911,
          6.50739610120283,
          9.044530261871643,
          5.8005738000000004,
          4.8022998999999995,
          6.4499833,
          6.3415092,
          6.442498886642078,
          6.437099609170479,
          6.696715599999999,
          6.480777464814587,
          10.44582100762086,
          46.3144754,
          5.0234940950077105,
          5.499945883523939,
          13.070261259035954,
          6.531495633174419,
          6.531476461211566,
          9.082104516727414,
          6.50739610120283,
          6.15092948344245,
          6.635077856837922,
          7.22364685,
          6.86410245,
          5.524496873891889
         ],
         "legendgroup": "",
         "lon": [
          3.4010634,
          7.930329367179847,
          7.0244112,
          5.7644585,
          3.3705089003782813,
          7.097545497034502,
          8.426971128531708,
          7.497661249898662,
          7.443701814724563,
          3.3520514730559623,
          3.3917331288413815,
          3.3904608136373278,
          3.3916106115955476,
          3.3984108291199346,
          3.4255714863988147,
          3.3984108291199346,
          3.3562086654637784,
          3.3882322395959057,
          7.522173822301764,
          5.7446476005524385,
          4.56267565975022,
          6.739491529165696,
          3.3886854285531913,
          7.49662215,
          5.735002,
          7.3723254,
          7.442924493505686,
          3.3471892,
          7.039301439227642,
          12.623617180837325,
          6.4460533647098845,
          7.4415273123236005,
          3.3979235134624153,
          4.555923460005112,
          4.52457722932274,
          7.044656989629729,
          7.5174478,
          3.349941872602375,
          5.6265195149973355,
          4.56267565975022,
          3.3548196988352417,
          3.320889893649509,
          3.3416268936661933,
          3.3747753035102623,
          3.9207959455218155,
          6.913941451342504,
          6.9961226,
          7.040044669036334,
          3.3573524188330244,
          6.571665937172176,
          5.778062465975873,
          3.3789026869246794,
          7.428999986900007,
          7.499878710523314,
          5.634812524363459,
          3.349941872602375,
          4.5645772000000004,
          11.0480288,
          3.3474982085702405,
          3.417672333561814,
          3.3660084718555376,
          6.79121903638786,
          7.4435303,
          3.352604796877015,
          7.523264566053029,
          7.91999931637842,
          6.9961226,
          7.5000007,
          5.6135591,
          3.420562996720331,
          3.4293615489678393,
          2.9934874693042652,
          3.3869674036574735,
          7.483948413608702,
          11.0480288,
          7.895657483399418,
          7.036134369148051,
          6.505475830092998,
          3.376945845818225,
          3.3396614942164864,
          7.490373217914451,
          3.352604796877015,
          6.778682684196257,
          3.3020564790040283,
          3.4355762498041442,
          7.409739732182379,
          5.763056597995141
         ],
         "marker": {
          "color": "red"
         },
         "mode": "markers",
         "name": "",
         "showlegend": false,
         "subplot": "mapbox",
         "type": "scattermapbox"
        }
       ],
       "layout": {
        "legend": {
         "orientation": "h",
         "title": {
          "text": "Legend"
         },
         "tracegroupgap": 0
        },
        "mapbox": {
         "center": {
          "lat": 9.082,
          "lon": 8.6753
         },
         "domain": {
          "x": [
           0,
           1
          ],
          "y": [
           0,
           1
          ]
         },
         "style": "carto-positron",
         "zoom": 4.65
        },
        "margin": {
         "t": 60
        },
        "template": {
         "data": {
          "bar": [
           {
            "error_x": {
             "color": "#2a3f5f"
            },
            "error_y": {
             "color": "#2a3f5f"
            },
            "marker": {
             "line": {
              "color": "#E5ECF6",
              "width": 0.5
             },
             "pattern": {
              "fillmode": "overlay",
              "size": 10,
              "solidity": 0.2
             }
            },
            "type": "bar"
           }
          ],
          "barpolar": [
           {
            "marker": {
             "line": {
              "color": "#E5ECF6",
              "width": 0.5
             },
             "pattern": {
              "fillmode": "overlay",
              "size": 10,
              "solidity": 0.2
             }
            },
            "type": "barpolar"
           }
          ],
          "carpet": [
           {
            "aaxis": {
             "endlinecolor": "#2a3f5f",
             "gridcolor": "white",
             "linecolor": "white",
             "minorgridcolor": "white",
             "startlinecolor": "#2a3f5f"
            },
            "baxis": {
             "endlinecolor": "#2a3f5f",
             "gridcolor": "white",
             "linecolor": "white",
             "minorgridcolor": "white",
             "startlinecolor": "#2a3f5f"
            },
            "type": "carpet"
           }
          ],
          "choropleth": [
           {
            "colorbar": {
             "outlinewidth": 0,
             "ticks": ""
            },
            "type": "choropleth"
           }
          ],
          "contour": [
           {
            "colorbar": {
             "outlinewidth": 0,
             "ticks": ""
            },
            "colorscale": [
             [
              0,
              "#0d0887"
             ],
             [
              0.1111111111111111,
              "#46039f"
             ],
             [
              0.2222222222222222,
              "#7201a8"
             ],
             [
              0.3333333333333333,
              "#9c179e"
             ],
             [
              0.4444444444444444,
              "#bd3786"
             ],
             [
              0.5555555555555556,
              "#d8576b"
             ],
             [
              0.6666666666666666,
              "#ed7953"
             ],
             [
              0.7777777777777778,
              "#fb9f3a"
             ],
             [
              0.8888888888888888,
              "#fdca26"
             ],
             [
              1,
              "#f0f921"
             ]
            ],
            "type": "contour"
           }
          ],
          "contourcarpet": [
           {
            "colorbar": {
             "outlinewidth": 0,
             "ticks": ""
            },
            "type": "contourcarpet"
           }
          ],
          "heatmap": [
           {
            "colorbar": {
             "outlinewidth": 0,
             "ticks": ""
            },
            "colorscale": [
             [
              0,
              "#0d0887"
             ],
             [
              0.1111111111111111,
              "#46039f"
             ],
             [
              0.2222222222222222,
              "#7201a8"
             ],
             [
              0.3333333333333333,
              "#9c179e"
             ],
             [
              0.4444444444444444,
              "#bd3786"
             ],
             [
              0.5555555555555556,
              "#d8576b"
             ],
             [
              0.6666666666666666,
              "#ed7953"
             ],
             [
              0.7777777777777778,
              "#fb9f3a"
             ],
             [
              0.8888888888888888,
              "#fdca26"
             ],
             [
              1,
              "#f0f921"
             ]
            ],
            "type": "heatmap"
           }
          ],
          "heatmapgl": [
           {
            "colorbar": {
             "outlinewidth": 0,
             "ticks": ""
            },
            "colorscale": [
             [
              0,
              "#0d0887"
             ],
             [
              0.1111111111111111,
              "#46039f"
             ],
             [
              0.2222222222222222,
              "#7201a8"
             ],
             [
              0.3333333333333333,
              "#9c179e"
             ],
             [
              0.4444444444444444,
              "#bd3786"
             ],
             [
              0.5555555555555556,
              "#d8576b"
             ],
             [
              0.6666666666666666,
              "#ed7953"
             ],
             [
              0.7777777777777778,
              "#fb9f3a"
             ],
             [
              0.8888888888888888,
              "#fdca26"
             ],
             [
              1,
              "#f0f921"
             ]
            ],
            "type": "heatmapgl"
           }
          ],
          "histogram": [
           {
            "marker": {
             "pattern": {
              "fillmode": "overlay",
              "size": 10,
              "solidity": 0.2
             }
            },
            "type": "histogram"
           }
          ],
          "histogram2d": [
           {
            "colorbar": {
             "outlinewidth": 0,
             "ticks": ""
            },
            "colorscale": [
             [
              0,
              "#0d0887"
             ],
             [
              0.1111111111111111,
              "#46039f"
             ],
             [
              0.2222222222222222,
              "#7201a8"
             ],
             [
              0.3333333333333333,
              "#9c179e"
             ],
             [
              0.4444444444444444,
              "#bd3786"
             ],
             [
              0.5555555555555556,
              "#d8576b"
             ],
             [
              0.6666666666666666,
              "#ed7953"
             ],
             [
              0.7777777777777778,
              "#fb9f3a"
             ],
             [
              0.8888888888888888,
              "#fdca26"
             ],
             [
              1,
              "#f0f921"
             ]
            ],
            "type": "histogram2d"
           }
          ],
          "histogram2dcontour": [
           {
            "colorbar": {
             "outlinewidth": 0,
             "ticks": ""
            },
            "colorscale": [
             [
              0,
              "#0d0887"
             ],
             [
              0.1111111111111111,
              "#46039f"
             ],
             [
              0.2222222222222222,
              "#7201a8"
             ],
             [
              0.3333333333333333,
              "#9c179e"
             ],
             [
              0.4444444444444444,
              "#bd3786"
             ],
             [
              0.5555555555555556,
              "#d8576b"
             ],
             [
              0.6666666666666666,
              "#ed7953"
             ],
             [
              0.7777777777777778,
              "#fb9f3a"
             ],
             [
              0.8888888888888888,
              "#fdca26"
             ],
             [
              1,
              "#f0f921"
             ]
            ],
            "type": "histogram2dcontour"
           }
          ],
          "mesh3d": [
           {
            "colorbar": {
             "outlinewidth": 0,
             "ticks": ""
            },
            "type": "mesh3d"
           }
          ],
          "parcoords": [
           {
            "line": {
             "colorbar": {
              "outlinewidth": 0,
              "ticks": ""
             }
            },
            "type": "parcoords"
           }
          ],
          "pie": [
           {
            "automargin": true,
            "type": "pie"
           }
          ],
          "scatter": [
           {
            "fillpattern": {
             "fillmode": "overlay",
             "size": 10,
             "solidity": 0.2
            },
            "type": "scatter"
           }
          ],
          "scatter3d": [
           {
            "line": {
             "colorbar": {
              "outlinewidth": 0,
              "ticks": ""
             }
            },
            "marker": {
             "colorbar": {
              "outlinewidth": 0,
              "ticks": ""
             }
            },
            "type": "scatter3d"
           }
          ],
          "scattercarpet": [
           {
            "marker": {
             "colorbar": {
              "outlinewidth": 0,
              "ticks": ""
             }
            },
            "type": "scattercarpet"
           }
          ],
          "scattergeo": [
           {
            "marker": {
             "colorbar": {
              "outlinewidth": 0,
              "ticks": ""
             }
            },
            "type": "scattergeo"
           }
          ],
          "scattergl": [
           {
            "marker": {
             "colorbar": {
              "outlinewidth": 0,
              "ticks": ""
             }
            },
            "type": "scattergl"
           }
          ],
          "scattermapbox": [
           {
            "marker": {
             "colorbar": {
              "outlinewidth": 0,
              "ticks": ""
             }
            },
            "type": "scattermapbox"
           }
          ],
          "scatterpolar": [
           {
            "marker": {
             "colorbar": {
              "outlinewidth": 0,
              "ticks": ""
             }
            },
            "type": "scatterpolar"
           }
          ],
          "scatterpolargl": [
           {
            "marker": {
             "colorbar": {
              "outlinewidth": 0,
              "ticks": ""
             }
            },
            "type": "scatterpolargl"
           }
          ],
          "scatterternary": [
           {
            "marker": {
             "colorbar": {
              "outlinewidth": 0,
              "ticks": ""
             }
            },
            "type": "scatterternary"
           }
          ],
          "surface": [
           {
            "colorbar": {
             "outlinewidth": 0,
             "ticks": ""
            },
            "colorscale": [
             [
              0,
              "#0d0887"
             ],
             [
              0.1111111111111111,
              "#46039f"
             ],
             [
              0.2222222222222222,
              "#7201a8"
             ],
             [
              0.3333333333333333,
              "#9c179e"
             ],
             [
              0.4444444444444444,
              "#bd3786"
             ],
             [
              0.5555555555555556,
              "#d8576b"
             ],
             [
              0.6666666666666666,
              "#ed7953"
             ],
             [
              0.7777777777777778,
              "#fb9f3a"
             ],
             [
              0.8888888888888888,
              "#fdca26"
             ],
             [
              1,
              "#f0f921"
             ]
            ],
            "type": "surface"
           }
          ],
          "table": [
           {
            "cells": {
             "fill": {
              "color": "#EBF0F8"
             },
             "line": {
              "color": "white"
             }
            },
            "header": {
             "fill": {
              "color": "#C8D4E3"
             },
             "line": {
              "color": "white"
             }
            },
            "type": "table"
           }
          ]
         },
         "layout": {
          "annotationdefaults": {
           "arrowcolor": "#2a3f5f",
           "arrowhead": 0,
           "arrowwidth": 1
          },
          "autotypenumbers": "strict",
          "coloraxis": {
           "colorbar": {
            "outlinewidth": 0,
            "ticks": ""
           }
          },
          "colorscale": {
           "diverging": [
            [
             0,
             "#8e0152"
            ],
            [
             0.1,
             "#c51b7d"
            ],
            [
             0.2,
             "#de77ae"
            ],
            [
             0.3,
             "#f1b6da"
            ],
            [
             0.4,
             "#fde0ef"
            ],
            [
             0.5,
             "#f7f7f7"
            ],
            [
             0.6,
             "#e6f5d0"
            ],
            [
             0.7,
             "#b8e186"
            ],
            [
             0.8,
             "#7fbc41"
            ],
            [
             0.9,
             "#4d9221"
            ],
            [
             1,
             "#276419"
            ]
           ],
           "sequential": [
            [
             0,
             "#0d0887"
            ],
            [
             0.1111111111111111,
             "#46039f"
            ],
            [
             0.2222222222222222,
             "#7201a8"
            ],
            [
             0.3333333333333333,
             "#9c179e"
            ],
            [
             0.4444444444444444,
             "#bd3786"
            ],
            [
             0.5555555555555556,
             "#d8576b"
            ],
            [
             0.6666666666666666,
             "#ed7953"
            ],
            [
             0.7777777777777778,
             "#fb9f3a"
            ],
            [
             0.8888888888888888,
             "#fdca26"
            ],
            [
             1,
             "#f0f921"
            ]
           ],
           "sequentialminus": [
            [
             0,
             "#0d0887"
            ],
            [
             0.1111111111111111,
             "#46039f"
            ],
            [
             0.2222222222222222,
             "#7201a8"
            ],
            [
             0.3333333333333333,
             "#9c179e"
            ],
            [
             0.4444444444444444,
             "#bd3786"
            ],
            [
             0.5555555555555556,
             "#d8576b"
            ],
            [
             0.6666666666666666,
             "#ed7953"
            ],
            [
             0.7777777777777778,
             "#fb9f3a"
            ],
            [
             0.8888888888888888,
             "#fdca26"
            ],
            [
             1,
             "#f0f921"
            ]
           ]
          },
          "colorway": [
           "#636efa",
           "#EF553B",
           "#00cc96",
           "#ab63fa",
           "#FFA15A",
           "#19d3f3",
           "#FF6692",
           "#B6E880",
           "#FF97FF",
           "#FECB52"
          ],
          "font": {
           "color": "#2a3f5f"
          },
          "geo": {
           "bgcolor": "white",
           "lakecolor": "white",
           "landcolor": "#E5ECF6",
           "showlakes": true,
           "showland": true,
           "subunitcolor": "white"
          },
          "hoverlabel": {
           "align": "left"
          },
          "hovermode": "closest",
          "mapbox": {
           "style": "light"
          },
          "paper_bgcolor": "white",
          "plot_bgcolor": "#E5ECF6",
          "polar": {
           "angularaxis": {
            "gridcolor": "white",
            "linecolor": "white",
            "ticks": ""
           },
           "bgcolor": "#E5ECF6",
           "radialaxis": {
            "gridcolor": "white",
            "linecolor": "white",
            "ticks": ""
           }
          },
          "scene": {
           "xaxis": {
            "backgroundcolor": "#E5ECF6",
            "gridcolor": "white",
            "gridwidth": 2,
            "linecolor": "white",
            "showbackground": true,
            "ticks": "",
            "zerolinecolor": "white"
           },
           "yaxis": {
            "backgroundcolor": "#E5ECF6",
            "gridcolor": "white",
            "gridwidth": 2,
            "linecolor": "white",
            "showbackground": true,
            "ticks": "",
            "zerolinecolor": "white"
           },
           "zaxis": {
            "backgroundcolor": "#E5ECF6",
            "gridcolor": "white",
            "gridwidth": 2,
            "linecolor": "white",
            "showbackground": true,
            "ticks": "",
            "zerolinecolor": "white"
           }
          },
          "shapedefaults": {
           "line": {
            "color": "#2a3f5f"
           }
          },
          "ternary": {
           "aaxis": {
            "gridcolor": "white",
            "linecolor": "white",
            "ticks": ""
           },
           "baxis": {
            "gridcolor": "white",
            "linecolor": "white",
            "ticks": ""
           },
           "bgcolor": "#E5ECF6",
           "caxis": {
            "gridcolor": "white",
            "linecolor": "white",
            "ticks": ""
           }
          },
          "title": {
           "x": 0.05
          },
          "xaxis": {
           "automargin": true,
           "gridcolor": "white",
           "linecolor": "white",
           "ticks": "",
           "title": {
            "standoff": 15
           },
           "zerolinecolor": "white",
           "zerolinewidth": 2
          },
          "yaxis": {
           "automargin": true,
           "gridcolor": "white",
           "linecolor": "white",
           "ticks": "",
           "title": {
            "standoff": 15
           },
           "zerolinecolor": "white",
           "zerolinewidth": 2
          }
         }
        },
        "title": {
         "text": "Locations of NELEX Centers and Microfinance Banks in Nigeria"
        }
       }
      },
      "text/html": [
       "<div>                            <div id=\"66406c07-6187-4501-9e0b-9930fe19ac4d\" class=\"plotly-graph-div\" style=\"height:525px; width:100%;\"></div>            <script type=\"text/javascript\">                require([\"plotly\"], function(Plotly) {                    window.PLOTLYENV=window.PLOTLYENV || {};                                    if (document.getElementById(\"66406c07-6187-4501-9e0b-9930fe19ac4d\")) {                    Plotly.newPlot(                        \"66406c07-6187-4501-9e0b-9930fe19ac4d\",                        [{\"customdata\":[[\"Nigeria\"]],\"hovertemplate\":\"lat=%{lat}\\u003cbr\\u003elon=%{lon}\\u003cbr\\u003eCOUNTRY=%{customdata[0]}\\u003cextra\\u003e\\u003c\\u002fextra\\u003e\",\"lat\":[9.592267701675834],\"legendgroup\":\"\",\"lon\":[8.09757500646277],\"marker\":{\"color\":\"green\"},\"mode\":\"markers\",\"name\":\"\",\"showlegend\":false,\"subplot\":\"mapbox\",\"type\":\"scattermapbox\"},{\"customdata\":[[\"Federal Ministry of Labour and Employment, Federal Secretariat Complex, Room 24\"],[\"Federal Ministry of Labour and Employment, Federal Secretariat Complex, Ground Floor\"],[\"Federal Ministry of Labour and Employment, Federal Secretariat Complex, 8th Floor\"],[\"National Productivity Centre (NPC)\"]],\"hovertemplate\":\"lat=%{lat}\\u003cbr\\u003elon=%{lon}\\u003cbr\\u003enelex_office=%{customdata[0]}\\u003cextra\\u003e\\u003c\\u002fextra\\u003e\",\"lat\":[10.3147618,5.489736,4.8495575,9.068049638637435],\"legendgroup\":\"\",\"lon\":[9.8454417,7.0341973,7.0532711,7.4415273123236005],\"marker\":{\"color\":\"blue\"},\"mode\":\"markers\",\"name\":\"\",\"showlegend\":false,\"subplot\":\"mapbox\",\"type\":\"scattermapbox\"},{\"customdata\":[[\"Addosser Microfinance Bank Limited\"],[\"Advance Microfinance Bank Limited\"],[\"Alvana Microfinance Bank Limited\"],[\"AMJU Microfinance Bank Limited\"],[\"Assets Microfinance Bank Limited\"],[\"Awka Microfinance Bank Limited\"],[\"Bayero University Microfinance Bank Limited\"],[\"Bethel Microfinance Bank Limited\"],[\"Bigthana Microfinance Bank Limited\"],[\"Biztrust Microfinance Bank LImited\"],[\"BOI Microfinance Bank Limited\"],[\"Boig Microfinance Bank Limited\"],[\"Broadview Microfinance Bank Limited\"],[\"Capstone Microfinance Bank Limited\"],[\"Carbon Microfinance Bank Limited\"],[\"Cash Cow Microfinance Bank Limited\"],[\"Cedar Microfinance Bank Limited\"],[\"Chanelle Microfinance Bank Limited\"],[\"Chidera Microfinance Bank Limited\"],[\"Coastline Microfinance Bank Limited\"],[\"Confidence Microfinance Bank Limited\"],[\"Confluence Microfinance Bank Limited\"],[\"Credit Express Microfinance Bank Limited\"],[\"Creditlink Microfinance Bank Limited\"],[\"Eagle Flight Microfinance Bank Limited\"],[\"East-Gate Microfinance Bank Limited\"],[\"e-Barcs Microfinance Bank Limited\"],[\"Finatrust Microfinance Bank Limited\"],[\"FINCA Microfinance Bank Limited\"],[\"Fufore Microfinance Bank Limited\"],[\"FUT Minna Microfinance Bank Limited\"],[\"Future Growth Microfinance Bank Limited\"],[\"Hybrid Microfinance Bank LImited\"],[\"Ibu-Aje Microfinance Bank Limited\"],[\"Ilobu Microfinance Bank Limited\"],[\"IMSU Microfinance Bank Limited\"],[\"IMT Microfinance Bank Limited\"],[\"Ipodo-Ikeja Microfinance Bank Limited\"],[\"Ivie Microfinance Bank Limited\"],[\"KCMB Microfinance Bank Ltd\"],[\"King Solomon Microfinance Bank LImited\"],[\"Landgold Microfinance Bank Limited\"],[\"Main Trust Microfinance Bank Limited\"],[\"Maritime Microfinance Bank Limited\"],[\"MBA Microfinance Bank Limited\"],[\"Mgbidi Microfinance Bank Limited\"],[\"Midland Microfinance Bank Limited\"],[\"Minji-Se Churchill Microfinance Bank Limited\"],[\"Mountaintop (Mayfield) Microfinance Bank Limited\"],[\"Namoda Microfinance Bank Limited\"],[\"New Golden Pastures Microfinance Bank Limited\"],[\"Novel Microfinance Bank LImited\"],[\"NUT Endwell Microfinance Bank Limited\"],[\"Ohha Microfinance Bank Limited\"],[\"Okuta Microfinance Bank Limited\"],[\"Olive Microfinance Bank Limited\"],[\"Olofin Microfinance Bank Limited\"],[null],[\"Owotutu Microfinance Bank Limited\"],[\"Page Credit Microfinance Bank Limited\"],[\"Parallex Microfinance Bank Limited\"],[\"Partnership Microfinance Bank Limited\"],[\"Peace Microfinance Bank Limited\"],[\"Personal Trust Microfinance Bank Limited\"],[\"Pillar Microfinance Bank Limited\"],[\"Polyunwana Microfinance Bank Limited\"],[\"Premium Microfinance Bank Limited\"],[\"Prisco Microfinance Bank Limited\"],[\"Prosperity Microfinance Bank Limited\"],[\"RenMoney (Rencredit) Microfinance Bank Limited\"],[\"RIC Microfinance Bank Limited\"],[\"Riverside Microfinance Bank Limited\"],[\"Royal Blue Microfinance Bank Limited\"],[\"Sabon Yelwa Microfinance Bank Limited\"],[\"Sanchi Microfinance Bank Limited\"],[\"Sapphire Microfinance Bank Limited\"],[\"Saviour Microfinance Bank Limited\"],[\"Shinkafi Microfinance Bank Limited\"],[\"Solid Allianz Microfinance Bank Limited\"],[\"Sovereign Microfinance Bank Limited\"],[\"Splendid Microfinance Bank Limited\"],[\"Stallion Microfinance Bank Limited\"],[\"Topclass Microfinance Bank Limited\"],[\"Touchgold Microfinance Bank Limited\"],[\"UNAAB Microfinance Bank Limited\"],[\"UNN Microfinance Bank Limited\"],[\"Wetland Microfinance Bank Limited\"]],\"hovertemplate\":\"lat=%{lat}\\u003cbr\\u003elon=%{lon}\\u003cbr\\u003emicrofinance_bank=%{customdata[0]}\\u003cextra\\u003e\\u003c\\u002fextra\\u003e\",\"lat\":[6.4509459,5.034950711903823,5.5002316,5.5412642,6.54188290988921,6.223677469254275,11.9703215,6.423131727393315,10.56140900218649,6.601638489570713,6.448513380008572,6.458894468581737,6.452122124842403,6.450909463439982,6.4381523765572855,6.450909463439982,6.5124331242913245,6.456096762454715,6.458129774762952,5.525596280688994,8.48783546090621,7.8091635430269815,6.452086509133762,9.023890699999999,5.52811,5.1157869,9.06472151217774,6.596291600000001,5.475707878578819,9.178215212655449,9.5306701,9.068049638637435,6.452700231471402,7.78100061722481,7.819279326668976,5.50522735,6.4289032,6.607597782172943,6.323626469206512,8.48783546090621,6.490106136063731,6.6788709448889385,6.5451750371515525,6.440443995161821,7.431746457691963,5.699723213864232,4.8022998999999995,4.7518726103452495,6.4943174358137465,12.477330649999999,5.537422297687373,6.481521483875685,10.513279587887462,6.44776030133103,6.34303219840833,6.607597782172943,7.48653865,46.3144754,6.536185319575491,6.443787036512052,6.5992475840722635,6.143395931609321,9.06911,6.50739610120283,9.044530261871643,5.8005738000000004,4.8022998999999995,6.4499833,6.3415092,6.442498886642078,6.437099609170479,6.696715599999999,6.480777464814587,10.44582100762086,46.3144754,5.0234940950077105,5.499945883523939,13.070261259035954,6.531495633174419,6.531476461211566,9.082104516727414,6.50739610120283,6.15092948344245,6.635077856837922,7.22364685,6.86410245,5.524496873891889],\"legendgroup\":\"\",\"lon\":[3.4010634,7.930329367179847,7.0244112,5.7644585,3.3705089003782813,7.097545497034502,8.426971128531708,7.497661249898662,7.443701814724563,3.3520514730559623,3.3917331288413815,3.3904608136373278,3.3916106115955476,3.3984108291199346,3.4255714863988147,3.3984108291199346,3.3562086654637784,3.3882322395959057,7.522173822301764,5.7446476005524385,4.56267565975022,6.739491529165696,3.3886854285531913,7.49662215,5.735002,7.3723254,7.442924493505686,3.3471892,7.039301439227642,12.623617180837325,6.4460533647098845,7.4415273123236005,3.3979235134624153,4.555923460005112,4.52457722932274,7.044656989629729,7.5174478,3.349941872602375,5.6265195149973355,4.56267565975022,3.3548196988352417,3.320889893649509,3.3416268936661933,3.3747753035102623,3.9207959455218155,6.913941451342504,6.9961226,7.040044669036334,3.3573524188330244,6.571665937172176,5.778062465975873,3.3789026869246794,7.428999986900007,7.499878710523314,5.634812524363459,3.349941872602375,4.5645772000000004,11.0480288,3.3474982085702405,3.417672333561814,3.3660084718555376,6.79121903638786,7.4435303,3.352604796877015,7.523264566053029,7.91999931637842,6.9961226,7.5000007,5.6135591,3.420562996720331,3.4293615489678393,2.9934874693042652,3.3869674036574735,7.483948413608702,11.0480288,7.895657483399418,7.036134369148051,6.505475830092998,3.376945845818225,3.3396614942164864,7.490373217914451,3.352604796877015,6.778682684196257,3.3020564790040283,3.4355762498041442,7.409739732182379,5.763056597995141],\"marker\":{\"color\":\"red\"},\"mode\":\"markers\",\"name\":\"\",\"showlegend\":false,\"subplot\":\"mapbox\",\"type\":\"scattermapbox\"}],                        {\"template\":{\"data\":{\"histogram2dcontour\":[{\"type\":\"histogram2dcontour\",\"colorbar\":{\"outlinewidth\":0,\"ticks\":\"\"},\"colorscale\":[[0.0,\"#0d0887\"],[0.1111111111111111,\"#46039f\"],[0.2222222222222222,\"#7201a8\"],[0.3333333333333333,\"#9c179e\"],[0.4444444444444444,\"#bd3786\"],[0.5555555555555556,\"#d8576b\"],[0.6666666666666666,\"#ed7953\"],[0.7777777777777778,\"#fb9f3a\"],[0.8888888888888888,\"#fdca26\"],[1.0,\"#f0f921\"]]}],\"choropleth\":[{\"type\":\"choropleth\",\"colorbar\":{\"outlinewidth\":0,\"ticks\":\"\"}}],\"histogram2d\":[{\"type\":\"histogram2d\",\"colorbar\":{\"outlinewidth\":0,\"ticks\":\"\"},\"colorscale\":[[0.0,\"#0d0887\"],[0.1111111111111111,\"#46039f\"],[0.2222222222222222,\"#7201a8\"],[0.3333333333333333,\"#9c179e\"],[0.4444444444444444,\"#bd3786\"],[0.5555555555555556,\"#d8576b\"],[0.6666666666666666,\"#ed7953\"],[0.7777777777777778,\"#fb9f3a\"],[0.8888888888888888,\"#fdca26\"],[1.0,\"#f0f921\"]]}],\"heatmap\":[{\"type\":\"heatmap\",\"colorbar\":{\"outlinewidth\":0,\"ticks\":\"\"},\"colorscale\":[[0.0,\"#0d0887\"],[0.1111111111111111,\"#46039f\"],[0.2222222222222222,\"#7201a8\"],[0.3333333333333333,\"#9c179e\"],[0.4444444444444444,\"#bd3786\"],[0.5555555555555556,\"#d8576b\"],[0.6666666666666666,\"#ed7953\"],[0.7777777777777778,\"#fb9f3a\"],[0.8888888888888888,\"#fdca26\"],[1.0,\"#f0f921\"]]}],\"heatmapgl\":[{\"type\":\"heatmapgl\",\"colorbar\":{\"outlinewidth\":0,\"ticks\":\"\"},\"colorscale\":[[0.0,\"#0d0887\"],[0.1111111111111111,\"#46039f\"],[0.2222222222222222,\"#7201a8\"],[0.3333333333333333,\"#9c179e\"],[0.4444444444444444,\"#bd3786\"],[0.5555555555555556,\"#d8576b\"],[0.6666666666666666,\"#ed7953\"],[0.7777777777777778,\"#fb9f3a\"],[0.8888888888888888,\"#fdca26\"],[1.0,\"#f0f921\"]]}],\"contourcarpet\":[{\"type\":\"contourcarpet\",\"colorbar\":{\"outlinewidth\":0,\"ticks\":\"\"}}],\"contour\":[{\"type\":\"contour\",\"colorbar\":{\"outlinewidth\":0,\"ticks\":\"\"},\"colorscale\":[[0.0,\"#0d0887\"],[0.1111111111111111,\"#46039f\"],[0.2222222222222222,\"#7201a8\"],[0.3333333333333333,\"#9c179e\"],[0.4444444444444444,\"#bd3786\"],[0.5555555555555556,\"#d8576b\"],[0.6666666666666666,\"#ed7953\"],[0.7777777777777778,\"#fb9f3a\"],[0.8888888888888888,\"#fdca26\"],[1.0,\"#f0f921\"]]}],\"surface\":[{\"type\":\"surface\",\"colorbar\":{\"outlinewidth\":0,\"ticks\":\"\"},\"colorscale\":[[0.0,\"#0d0887\"],[0.1111111111111111,\"#46039f\"],[0.2222222222222222,\"#7201a8\"],[0.3333333333333333,\"#9c179e\"],[0.4444444444444444,\"#bd3786\"],[0.5555555555555556,\"#d8576b\"],[0.6666666666666666,\"#ed7953\"],[0.7777777777777778,\"#fb9f3a\"],[0.8888888888888888,\"#fdca26\"],[1.0,\"#f0f921\"]]}],\"mesh3d\":[{\"type\":\"mesh3d\",\"colorbar\":{\"outlinewidth\":0,\"ticks\":\"\"}}],\"scatter\":[{\"fillpattern\":{\"fillmode\":\"overlay\",\"size\":10,\"solidity\":0.2},\"type\":\"scatter\"}],\"parcoords\":[{\"type\":\"parcoords\",\"line\":{\"colorbar\":{\"outlinewidth\":0,\"ticks\":\"\"}}}],\"scatterpolargl\":[{\"type\":\"scatterpolargl\",\"marker\":{\"colorbar\":{\"outlinewidth\":0,\"ticks\":\"\"}}}],\"bar\":[{\"error_x\":{\"color\":\"#2a3f5f\"},\"error_y\":{\"color\":\"#2a3f5f\"},\"marker\":{\"line\":{\"color\":\"#E5ECF6\",\"width\":0.5},\"pattern\":{\"fillmode\":\"overlay\",\"size\":10,\"solidity\":0.2}},\"type\":\"bar\"}],\"scattergeo\":[{\"type\":\"scattergeo\",\"marker\":{\"colorbar\":{\"outlinewidth\":0,\"ticks\":\"\"}}}],\"scatterpolar\":[{\"type\":\"scatterpolar\",\"marker\":{\"colorbar\":{\"outlinewidth\":0,\"ticks\":\"\"}}}],\"histogram\":[{\"marker\":{\"pattern\":{\"fillmode\":\"overlay\",\"size\":10,\"solidity\":0.2}},\"type\":\"histogram\"}],\"scattergl\":[{\"type\":\"scattergl\",\"marker\":{\"colorbar\":{\"outlinewidth\":0,\"ticks\":\"\"}}}],\"scatter3d\":[{\"type\":\"scatter3d\",\"line\":{\"colorbar\":{\"outlinewidth\":0,\"ticks\":\"\"}},\"marker\":{\"colorbar\":{\"outlinewidth\":0,\"ticks\":\"\"}}}],\"scattermapbox\":[{\"type\":\"scattermapbox\",\"marker\":{\"colorbar\":{\"outlinewidth\":0,\"ticks\":\"\"}}}],\"scatterternary\":[{\"type\":\"scatterternary\",\"marker\":{\"colorbar\":{\"outlinewidth\":0,\"ticks\":\"\"}}}],\"scattercarpet\":[{\"type\":\"scattercarpet\",\"marker\":{\"colorbar\":{\"outlinewidth\":0,\"ticks\":\"\"}}}],\"carpet\":[{\"aaxis\":{\"endlinecolor\":\"#2a3f5f\",\"gridcolor\":\"white\",\"linecolor\":\"white\",\"minorgridcolor\":\"white\",\"startlinecolor\":\"#2a3f5f\"},\"baxis\":{\"endlinecolor\":\"#2a3f5f\",\"gridcolor\":\"white\",\"linecolor\":\"white\",\"minorgridcolor\":\"white\",\"startlinecolor\":\"#2a3f5f\"},\"type\":\"carpet\"}],\"table\":[{\"cells\":{\"fill\":{\"color\":\"#EBF0F8\"},\"line\":{\"color\":\"white\"}},\"header\":{\"fill\":{\"color\":\"#C8D4E3\"},\"line\":{\"color\":\"white\"}},\"type\":\"table\"}],\"barpolar\":[{\"marker\":{\"line\":{\"color\":\"#E5ECF6\",\"width\":0.5},\"pattern\":{\"fillmode\":\"overlay\",\"size\":10,\"solidity\":0.2}},\"type\":\"barpolar\"}],\"pie\":[{\"automargin\":true,\"type\":\"pie\"}]},\"layout\":{\"autotypenumbers\":\"strict\",\"colorway\":[\"#636efa\",\"#EF553B\",\"#00cc96\",\"#ab63fa\",\"#FFA15A\",\"#19d3f3\",\"#FF6692\",\"#B6E880\",\"#FF97FF\",\"#FECB52\"],\"font\":{\"color\":\"#2a3f5f\"},\"hovermode\":\"closest\",\"hoverlabel\":{\"align\":\"left\"},\"paper_bgcolor\":\"white\",\"plot_bgcolor\":\"#E5ECF6\",\"polar\":{\"bgcolor\":\"#E5ECF6\",\"angularaxis\":{\"gridcolor\":\"white\",\"linecolor\":\"white\",\"ticks\":\"\"},\"radialaxis\":{\"gridcolor\":\"white\",\"linecolor\":\"white\",\"ticks\":\"\"}},\"ternary\":{\"bgcolor\":\"#E5ECF6\",\"aaxis\":{\"gridcolor\":\"white\",\"linecolor\":\"white\",\"ticks\":\"\"},\"baxis\":{\"gridcolor\":\"white\",\"linecolor\":\"white\",\"ticks\":\"\"},\"caxis\":{\"gridcolor\":\"white\",\"linecolor\":\"white\",\"ticks\":\"\"}},\"coloraxis\":{\"colorbar\":{\"outlinewidth\":0,\"ticks\":\"\"}},\"colorscale\":{\"sequential\":[[0.0,\"#0d0887\"],[0.1111111111111111,\"#46039f\"],[0.2222222222222222,\"#7201a8\"],[0.3333333333333333,\"#9c179e\"],[0.4444444444444444,\"#bd3786\"],[0.5555555555555556,\"#d8576b\"],[0.6666666666666666,\"#ed7953\"],[0.7777777777777778,\"#fb9f3a\"],[0.8888888888888888,\"#fdca26\"],[1.0,\"#f0f921\"]],\"sequentialminus\":[[0.0,\"#0d0887\"],[0.1111111111111111,\"#46039f\"],[0.2222222222222222,\"#7201a8\"],[0.3333333333333333,\"#9c179e\"],[0.4444444444444444,\"#bd3786\"],[0.5555555555555556,\"#d8576b\"],[0.6666666666666666,\"#ed7953\"],[0.7777777777777778,\"#fb9f3a\"],[0.8888888888888888,\"#fdca26\"],[1.0,\"#f0f921\"]],\"diverging\":[[0,\"#8e0152\"],[0.1,\"#c51b7d\"],[0.2,\"#de77ae\"],[0.3,\"#f1b6da\"],[0.4,\"#fde0ef\"],[0.5,\"#f7f7f7\"],[0.6,\"#e6f5d0\"],[0.7,\"#b8e186\"],[0.8,\"#7fbc41\"],[0.9,\"#4d9221\"],[1,\"#276419\"]]},\"xaxis\":{\"gridcolor\":\"white\",\"linecolor\":\"white\",\"ticks\":\"\",\"title\":{\"standoff\":15},\"zerolinecolor\":\"white\",\"automargin\":true,\"zerolinewidth\":2},\"yaxis\":{\"gridcolor\":\"white\",\"linecolor\":\"white\",\"ticks\":\"\",\"title\":{\"standoff\":15},\"zerolinecolor\":\"white\",\"automargin\":true,\"zerolinewidth\":2},\"scene\":{\"xaxis\":{\"backgroundcolor\":\"#E5ECF6\",\"gridcolor\":\"white\",\"linecolor\":\"white\",\"showbackground\":true,\"ticks\":\"\",\"zerolinecolor\":\"white\",\"gridwidth\":2},\"yaxis\":{\"backgroundcolor\":\"#E5ECF6\",\"gridcolor\":\"white\",\"linecolor\":\"white\",\"showbackground\":true,\"ticks\":\"\",\"zerolinecolor\":\"white\",\"gridwidth\":2},\"zaxis\":{\"backgroundcolor\":\"#E5ECF6\",\"gridcolor\":\"white\",\"linecolor\":\"white\",\"showbackground\":true,\"ticks\":\"\",\"zerolinecolor\":\"white\",\"gridwidth\":2}},\"shapedefaults\":{\"line\":{\"color\":\"#2a3f5f\"}},\"annotationdefaults\":{\"arrowcolor\":\"#2a3f5f\",\"arrowhead\":0,\"arrowwidth\":1},\"geo\":{\"bgcolor\":\"white\",\"landcolor\":\"#E5ECF6\",\"subunitcolor\":\"white\",\"showland\":true,\"showlakes\":true,\"lakecolor\":\"white\"},\"title\":{\"x\":0.05},\"mapbox\":{\"style\":\"light\"}}},\"mapbox\":{\"domain\":{\"x\":[0.0,1.0],\"y\":[0.0,1.0]},\"center\":{\"lat\":9.082,\"lon\":8.6753},\"zoom\":4.65,\"style\":\"carto-positron\"},\"legend\":{\"tracegroupgap\":0,\"title\":{\"text\":\"Legend\"},\"orientation\":\"h\"},\"margin\":{\"t\":60},\"title\":{\"text\":\"Locations of NELEX Centers and Microfinance Banks in Nigeria\"}},                        {\"responsive\": true}                    ).then(function(){\n",
       "                            \n",
       "var gd = document.getElementById('66406c07-6187-4501-9e0b-9930fe19ac4d');\n",
       "var x = new MutationObserver(function (mutations, observer) {{\n",
       "        var display = window.getComputedStyle(gd).display;\n",
       "        if (!display || display === 'none') {{\n",
       "            console.log([gd, 'removed!']);\n",
       "            Plotly.purge(gd);\n",
       "            observer.disconnect();\n",
       "        }}\n",
       "}});\n",
       "\n",
       "// Listen for the removal of the full notebook cells\n",
       "var notebookContainer = gd.closest('#notebook-container');\n",
       "if (notebookContainer) {{\n",
       "    x.observe(notebookContainer, {childList: true});\n",
       "}}\n",
       "\n",
       "// Listen for the clearing of the current output cell\n",
       "var outputEl = gd.closest('.output');\n",
       "if (outputEl) {{\n",
       "    x.observe(outputEl, {childList: true});\n",
       "}}\n",
       "\n",
       "                        })                };                });            </script>        </div>"
      ]
     },
     "metadata": {},
     "output_type": "display_data"
    }
   ],
   "source": [
    "# Convert geometries to latitude and longitude for Plotly\n",
    "nelex_df['lon'] = nelex_df['geometry'].apply(lambda point: point.x)\n",
    "nelex_df['lat'] = nelex_df['geometry'].apply(lambda point: point.y)\n",
    "\n",
    "microfinance_df['lon'] = microfinance_df['geometry'].apply(lambda point: point.x)\n",
    "microfinance_df['lat'] = microfinance_df['geometry'].apply(lambda point: point.y)\n",
    "\n",
    "# Plot using Plotly\n",
    "fig = px.scatter_mapbox(\n",
    "    nigeria_gdf,  # Use nigeria_gdf for base map\n",
    "    lat=nigeria_gdf.geometry.centroid.y,  # Latitude for Nigeria (using centroid)\n",
    "    lon=nigeria_gdf.geometry.centroid.x,  # Longitude for Nigeria (using centroid)\n",
    "    color_discrete_sequence=[\"green\"],  # Distinct color for Nigeria\n",
    "    center={\"lat\": 9.0820, \"lon\": 8.6753},  # Center on Nigeria\n",
    "    zoom=4,\n",
    "    mapbox_style=\"carto-positron\",  # Setting map style\n",
    "    hover_data=['COUNTRY'] # Display the name of Nigeria on hover\n",
    ")\n",
    "\n",
    "# Add NELEX offices to the map as a separate trace\n",
    "fig.add_trace(\n",
    "    px.scatter_mapbox(\n",
    "        nelex_df,\n",
    "        lat=\"lat\",\n",
    "        lon=\"lon\",\n",
    "        color_discrete_sequence=[\"blue\"], # Distinct color for NELEX markers\n",
    "        hover_data=['nelex_office'] # Display NELEX center name on hover\n",
    "    ).data[0]\n",
    ")\n",
    "\n",
    "# Add microfinance banks to the map as a separate trace\n",
    "fig.add_trace(\n",
    "    px.scatter_mapbox(\n",
    "        microfinance_df,\n",
    "        lat=\"lat\",\n",
    "        lon=\"lon\",\n",
    "        color_discrete_sequence=[\"red\"], # Distinct color for microfinance markers\n",
    "        hover_data=['microfinance_bank'] # Display microfinance bank name on hover\n",
    "    ).data[0]\n",
    ")\n",
    "\n",
    "# Update layout for better visualization\n",
    "fig.update_layout(\n",
    "    title=\"Locations of NELEX Centers and Microfinance Banks in Nigeria\",\n",
    "    mapbox=dict(\n",
    "        zoom=4.65\n",
    "    ),\n",
    "    legend=dict(\n",
    "        title=\"Legend\",\n",
    "        orientation=\"h\"\n",
    "    )\n",
    ")\n",
    "\n",
    "fig.show()"
   ]
  }
 ],
 "metadata": {
  "colab": {
   "provenance": []
  },
  "kernelspec": {
   "display_name": "Python 3",
   "name": "python3"
  },
  "language_info": {
   "codemirror_mode": {
    "name": "ipython",
    "version": 3
   },
   "file_extension": ".py",
   "mimetype": "text/x-python",
   "name": "python",
   "nbconvert_exporter": "python",
   "pygments_lexer": "ipython3",
   "version": "3.12.1"
  }
 },
 "nbformat": 4,
 "nbformat_minor": 0
}
=======
  "nbformat": 4,
  "nbformat_minor": 0,
  "metadata": {
    "colab": {
      "provenance": [],
      "authorship_tag": "ABX9TyNcOyxDSjRB6+8yafJjuJID",
      "include_colab_link": true
    },
    "kernelspec": {
      "name": "python3",
      "display_name": "Python 3"
    },
    "language_info": {
      "name": "python"
    }
  },
  "cells": [
    {
      "cell_type": "markdown",
      "metadata": {
        "id": "view-in-github",
        "colab_type": "text"
      },
      "source": [
        "<a href=\"https://colab.research.google.com/github/ChinonsoM/EconomicOpportunityMappingTool/blob/main/MVP.ipynb\" target=\"_parent\"><img src=\"https://colab.research.google.com/assets/colab-badge.svg\" alt=\"Open In Colab\"/></a>"
      ]
    },
    {
      "cell_type": "code",
      "execution_count": 31,
      "metadata": {
        "colab": {
          "base_uri": "https://localhost:8080/",
          "height": 73
        },
        "id": "unhz6egSmnZp",
        "outputId": "90c2b7c1-b6db-4373-c47d-5c71cf9763e9"
      },
      "outputs": [
        {
          "output_type": "display_data",
          "data": {
            "text/plain": [
              "<IPython.core.display.HTML object>"
            ],
            "text/html": [
              "\n",
              "     <input type=\"file\" id=\"files-a2beafe5-a1e0-4b79-a13d-97ff6760a03c\" name=\"files[]\" multiple disabled\n",
              "        style=\"border:none\" />\n",
              "     <output id=\"result-a2beafe5-a1e0-4b79-a13d-97ff6760a03c\">\n",
              "      Upload widget is only available when the cell has been executed in the\n",
              "      current browser session. Please rerun this cell to enable.\n",
              "      </output>\n",
              "      <script>// Copyright 2017 Google LLC\n",
              "//\n",
              "// Licensed under the Apache License, Version 2.0 (the \"License\");\n",
              "// you may not use this file except in compliance with the License.\n",
              "// You may obtain a copy of the License at\n",
              "//\n",
              "//      http://www.apache.org/licenses/LICENSE-2.0\n",
              "//\n",
              "// Unless required by applicable law or agreed to in writing, software\n",
              "// distributed under the License is distributed on an \"AS IS\" BASIS,\n",
              "// WITHOUT WARRANTIES OR CONDITIONS OF ANY KIND, either express or implied.\n",
              "// See the License for the specific language governing permissions and\n",
              "// limitations under the License.\n",
              "\n",
              "/**\n",
              " * @fileoverview Helpers for google.colab Python module.\n",
              " */\n",
              "(function(scope) {\n",
              "function span(text, styleAttributes = {}) {\n",
              "  const element = document.createElement('span');\n",
              "  element.textContent = text;\n",
              "  for (const key of Object.keys(styleAttributes)) {\n",
              "    element.style[key] = styleAttributes[key];\n",
              "  }\n",
              "  return element;\n",
              "}\n",
              "\n",
              "// Max number of bytes which will be uploaded at a time.\n",
              "const MAX_PAYLOAD_SIZE = 100 * 1024;\n",
              "\n",
              "function _uploadFiles(inputId, outputId) {\n",
              "  const steps = uploadFilesStep(inputId, outputId);\n",
              "  const outputElement = document.getElementById(outputId);\n",
              "  // Cache steps on the outputElement to make it available for the next call\n",
              "  // to uploadFilesContinue from Python.\n",
              "  outputElement.steps = steps;\n",
              "\n",
              "  return _uploadFilesContinue(outputId);\n",
              "}\n",
              "\n",
              "// This is roughly an async generator (not supported in the browser yet),\n",
              "// where there are multiple asynchronous steps and the Python side is going\n",
              "// to poll for completion of each step.\n",
              "// This uses a Promise to block the python side on completion of each step,\n",
              "// then passes the result of the previous step as the input to the next step.\n",
              "function _uploadFilesContinue(outputId) {\n",
              "  const outputElement = document.getElementById(outputId);\n",
              "  const steps = outputElement.steps;\n",
              "\n",
              "  const next = steps.next(outputElement.lastPromiseValue);\n",
              "  return Promise.resolve(next.value.promise).then((value) => {\n",
              "    // Cache the last promise value to make it available to the next\n",
              "    // step of the generator.\n",
              "    outputElement.lastPromiseValue = value;\n",
              "    return next.value.response;\n",
              "  });\n",
              "}\n",
              "\n",
              "/**\n",
              " * Generator function which is called between each async step of the upload\n",
              " * process.\n",
              " * @param {string} inputId Element ID of the input file picker element.\n",
              " * @param {string} outputId Element ID of the output display.\n",
              " * @return {!Iterable<!Object>} Iterable of next steps.\n",
              " */\n",
              "function* uploadFilesStep(inputId, outputId) {\n",
              "  const inputElement = document.getElementById(inputId);\n",
              "  inputElement.disabled = false;\n",
              "\n",
              "  const outputElement = document.getElementById(outputId);\n",
              "  outputElement.innerHTML = '';\n",
              "\n",
              "  const pickedPromise = new Promise((resolve) => {\n",
              "    inputElement.addEventListener('change', (e) => {\n",
              "      resolve(e.target.files);\n",
              "    });\n",
              "  });\n",
              "\n",
              "  const cancel = document.createElement('button');\n",
              "  inputElement.parentElement.appendChild(cancel);\n",
              "  cancel.textContent = 'Cancel upload';\n",
              "  const cancelPromise = new Promise((resolve) => {\n",
              "    cancel.onclick = () => {\n",
              "      resolve(null);\n",
              "    };\n",
              "  });\n",
              "\n",
              "  // Wait for the user to pick the files.\n",
              "  const files = yield {\n",
              "    promise: Promise.race([pickedPromise, cancelPromise]),\n",
              "    response: {\n",
              "      action: 'starting',\n",
              "    }\n",
              "  };\n",
              "\n",
              "  cancel.remove();\n",
              "\n",
              "  // Disable the input element since further picks are not allowed.\n",
              "  inputElement.disabled = true;\n",
              "\n",
              "  if (!files) {\n",
              "    return {\n",
              "      response: {\n",
              "        action: 'complete',\n",
              "      }\n",
              "    };\n",
              "  }\n",
              "\n",
              "  for (const file of files) {\n",
              "    const li = document.createElement('li');\n",
              "    li.append(span(file.name, {fontWeight: 'bold'}));\n",
              "    li.append(span(\n",
              "        `(${file.type || 'n/a'}) - ${file.size} bytes, ` +\n",
              "        `last modified: ${\n",
              "            file.lastModifiedDate ? file.lastModifiedDate.toLocaleDateString() :\n",
              "                                    'n/a'} - `));\n",
              "    const percent = span('0% done');\n",
              "    li.appendChild(percent);\n",
              "\n",
              "    outputElement.appendChild(li);\n",
              "\n",
              "    const fileDataPromise = new Promise((resolve) => {\n",
              "      const reader = new FileReader();\n",
              "      reader.onload = (e) => {\n",
              "        resolve(e.target.result);\n",
              "      };\n",
              "      reader.readAsArrayBuffer(file);\n",
              "    });\n",
              "    // Wait for the data to be ready.\n",
              "    let fileData = yield {\n",
              "      promise: fileDataPromise,\n",
              "      response: {\n",
              "        action: 'continue',\n",
              "      }\n",
              "    };\n",
              "\n",
              "    // Use a chunked sending to avoid message size limits. See b/62115660.\n",
              "    let position = 0;\n",
              "    do {\n",
              "      const length = Math.min(fileData.byteLength - position, MAX_PAYLOAD_SIZE);\n",
              "      const chunk = new Uint8Array(fileData, position, length);\n",
              "      position += length;\n",
              "\n",
              "      const base64 = btoa(String.fromCharCode.apply(null, chunk));\n",
              "      yield {\n",
              "        response: {\n",
              "          action: 'append',\n",
              "          file: file.name,\n",
              "          data: base64,\n",
              "        },\n",
              "      };\n",
              "\n",
              "      let percentDone = fileData.byteLength === 0 ?\n",
              "          100 :\n",
              "          Math.round((position / fileData.byteLength) * 100);\n",
              "      percent.textContent = `${percentDone}% done`;\n",
              "\n",
              "    } while (position < fileData.byteLength);\n",
              "  }\n",
              "\n",
              "  // All done.\n",
              "  yield {\n",
              "    response: {\n",
              "      action: 'complete',\n",
              "    }\n",
              "  };\n",
              "}\n",
              "\n",
              "scope.google = scope.google || {};\n",
              "scope.google.colab = scope.google.colab || {};\n",
              "scope.google.colab._files = {\n",
              "  _uploadFiles,\n",
              "  _uploadFilesContinue,\n",
              "};\n",
              "})(self);\n",
              "</script> "
            ]
          },
          "metadata": {}
        },
        {
          "output_type": "stream",
          "name": "stdout",
          "text": [
            "Saving nigeria_labour_ministry_locations.csv to nigeria_labour_ministry_locations (4).csv\n"
          ]
        }
      ],
      "source": [
        "from google.colab import files\n",
        "uploaded1 = files.upload()"
      ]
    },
    {
      "cell_type": "code",
      "source": [
        "uploaded2 = files.upload()"
      ],
      "metadata": {
        "colab": {
          "base_uri": "https://localhost:8080/",
          "height": 525
        },
        "id": "7Q-tTUkit2kL",
        "outputId": "4cbfaa02-ad6a-4b3f-a885-641ebc964c1c"
      },
      "execution_count": 39,
      "outputs": [
        {
          "output_type": "display_data",
          "data": {
            "text/plain": [
              "<IPython.core.display.HTML object>"
            ],
            "text/html": [
              "\n",
              "     <input type=\"file\" id=\"files-961da1a4-263b-44b6-b204-88a8e1a725b5\" name=\"files[]\" multiple disabled\n",
              "        style=\"border:none\" />\n",
              "     <output id=\"result-961da1a4-263b-44b6-b204-88a8e1a725b5\">\n",
              "      Upload widget is only available when the cell has been executed in the\n",
              "      current browser session. Please rerun this cell to enable.\n",
              "      </output>\n",
              "      <script>// Copyright 2017 Google LLC\n",
              "//\n",
              "// Licensed under the Apache License, Version 2.0 (the \"License\");\n",
              "// you may not use this file except in compliance with the License.\n",
              "// You may obtain a copy of the License at\n",
              "//\n",
              "//      http://www.apache.org/licenses/LICENSE-2.0\n",
              "//\n",
              "// Unless required by applicable law or agreed to in writing, software\n",
              "// distributed under the License is distributed on an \"AS IS\" BASIS,\n",
              "// WITHOUT WARRANTIES OR CONDITIONS OF ANY KIND, either express or implied.\n",
              "// See the License for the specific language governing permissions and\n",
              "// limitations under the License.\n",
              "\n",
              "/**\n",
              " * @fileoverview Helpers for google.colab Python module.\n",
              " */\n",
              "(function(scope) {\n",
              "function span(text, styleAttributes = {}) {\n",
              "  const element = document.createElement('span');\n",
              "  element.textContent = text;\n",
              "  for (const key of Object.keys(styleAttributes)) {\n",
              "    element.style[key] = styleAttributes[key];\n",
              "  }\n",
              "  return element;\n",
              "}\n",
              "\n",
              "// Max number of bytes which will be uploaded at a time.\n",
              "const MAX_PAYLOAD_SIZE = 100 * 1024;\n",
              "\n",
              "function _uploadFiles(inputId, outputId) {\n",
              "  const steps = uploadFilesStep(inputId, outputId);\n",
              "  const outputElement = document.getElementById(outputId);\n",
              "  // Cache steps on the outputElement to make it available for the next call\n",
              "  // to uploadFilesContinue from Python.\n",
              "  outputElement.steps = steps;\n",
              "\n",
              "  return _uploadFilesContinue(outputId);\n",
              "}\n",
              "\n",
              "// This is roughly an async generator (not supported in the browser yet),\n",
              "// where there are multiple asynchronous steps and the Python side is going\n",
              "// to poll for completion of each step.\n",
              "// This uses a Promise to block the python side on completion of each step,\n",
              "// then passes the result of the previous step as the input to the next step.\n",
              "function _uploadFilesContinue(outputId) {\n",
              "  const outputElement = document.getElementById(outputId);\n",
              "  const steps = outputElement.steps;\n",
              "\n",
              "  const next = steps.next(outputElement.lastPromiseValue);\n",
              "  return Promise.resolve(next.value.promise).then((value) => {\n",
              "    // Cache the last promise value to make it available to the next\n",
              "    // step of the generator.\n",
              "    outputElement.lastPromiseValue = value;\n",
              "    return next.value.response;\n",
              "  });\n",
              "}\n",
              "\n",
              "/**\n",
              " * Generator function which is called between each async step of the upload\n",
              " * process.\n",
              " * @param {string} inputId Element ID of the input file picker element.\n",
              " * @param {string} outputId Element ID of the output display.\n",
              " * @return {!Iterable<!Object>} Iterable of next steps.\n",
              " */\n",
              "function* uploadFilesStep(inputId, outputId) {\n",
              "  const inputElement = document.getElementById(inputId);\n",
              "  inputElement.disabled = false;\n",
              "\n",
              "  const outputElement = document.getElementById(outputId);\n",
              "  outputElement.innerHTML = '';\n",
              "\n",
              "  const pickedPromise = new Promise((resolve) => {\n",
              "    inputElement.addEventListener('change', (e) => {\n",
              "      resolve(e.target.files);\n",
              "    });\n",
              "  });\n",
              "\n",
              "  const cancel = document.createElement('button');\n",
              "  inputElement.parentElement.appendChild(cancel);\n",
              "  cancel.textContent = 'Cancel upload';\n",
              "  const cancelPromise = new Promise((resolve) => {\n",
              "    cancel.onclick = () => {\n",
              "      resolve(null);\n",
              "    };\n",
              "  });\n",
              "\n",
              "  // Wait for the user to pick the files.\n",
              "  const files = yield {\n",
              "    promise: Promise.race([pickedPromise, cancelPromise]),\n",
              "    response: {\n",
              "      action: 'starting',\n",
              "    }\n",
              "  };\n",
              "\n",
              "  cancel.remove();\n",
              "\n",
              "  // Disable the input element since further picks are not allowed.\n",
              "  inputElement.disabled = true;\n",
              "\n",
              "  if (!files) {\n",
              "    return {\n",
              "      response: {\n",
              "        action: 'complete',\n",
              "      }\n",
              "    };\n",
              "  }\n",
              "\n",
              "  for (const file of files) {\n",
              "    const li = document.createElement('li');\n",
              "    li.append(span(file.name, {fontWeight: 'bold'}));\n",
              "    li.append(span(\n",
              "        `(${file.type || 'n/a'}) - ${file.size} bytes, ` +\n",
              "        `last modified: ${\n",
              "            file.lastModifiedDate ? file.lastModifiedDate.toLocaleDateString() :\n",
              "                                    'n/a'} - `));\n",
              "    const percent = span('0% done');\n",
              "    li.appendChild(percent);\n",
              "\n",
              "    outputElement.appendChild(li);\n",
              "\n",
              "    const fileDataPromise = new Promise((resolve) => {\n",
              "      const reader = new FileReader();\n",
              "      reader.onload = (e) => {\n",
              "        resolve(e.target.result);\n",
              "      };\n",
              "      reader.readAsArrayBuffer(file);\n",
              "    });\n",
              "    // Wait for the data to be ready.\n",
              "    let fileData = yield {\n",
              "      promise: fileDataPromise,\n",
              "      response: {\n",
              "        action: 'continue',\n",
              "      }\n",
              "    };\n",
              "\n",
              "    // Use a chunked sending to avoid message size limits. See b/62115660.\n",
              "    let position = 0;\n",
              "    do {\n",
              "      const length = Math.min(fileData.byteLength - position, MAX_PAYLOAD_SIZE);\n",
              "      const chunk = new Uint8Array(fileData, position, length);\n",
              "      position += length;\n",
              "\n",
              "      const base64 = btoa(String.fromCharCode.apply(null, chunk));\n",
              "      yield {\n",
              "        response: {\n",
              "          action: 'append',\n",
              "          file: file.name,\n",
              "          data: base64,\n",
              "        },\n",
              "      };\n",
              "\n",
              "      let percentDone = fileData.byteLength === 0 ?\n",
              "          100 :\n",
              "          Math.round((position / fileData.byteLength) * 100);\n",
              "      percent.textContent = `${percentDone}% done`;\n",
              "\n",
              "    } while (position < fileData.byteLength);\n",
              "  }\n",
              "\n",
              "  // All done.\n",
              "  yield {\n",
              "    response: {\n",
              "      action: 'complete',\n",
              "    }\n",
              "  };\n",
              "}\n",
              "\n",
              "scope.google = scope.google || {};\n",
              "scope.google.colab = scope.google.colab || {};\n",
              "scope.google.colab._files = {\n",
              "  _uploadFiles,\n",
              "  _uploadFilesContinue,\n",
              "};\n",
              "})(self);\n",
              "</script> "
            ]
          },
          "metadata": {}
        },
        {
          "output_type": "stream",
          "name": "stdout",
          "text": [
            "Saving gadm41_NGA_0.cpg to gadm41_NGA_0.cpg\n",
            "Saving gadm41_NGA_0.dbf to gadm41_NGA_0.dbf\n",
            "Saving gadm41_NGA_0.prj to gadm41_NGA_0.prj\n",
            "Saving gadm41_NGA_0.shp to gadm41_NGA_0.shp\n",
            "Saving gadm41_NGA_0.shx to gadm41_NGA_0.shx\n",
            "Saving gadm41_NGA_1.cpg to gadm41_NGA_1.cpg\n",
            "Saving gadm41_NGA_1.dbf to gadm41_NGA_1.dbf\n",
            "Saving gadm41_NGA_1.prj to gadm41_NGA_1.prj\n",
            "Saving gadm41_NGA_1.shp to gadm41_NGA_1.shp\n",
            "Saving gadm41_NGA_1.shx to gadm41_NGA_1.shx\n",
            "Saving gadm41_NGA_2.cpg to gadm41_NGA_2.cpg\n",
            "Saving gadm41_NGA_2.dbf to gadm41_NGA_2.dbf\n",
            "Saving gadm41_NGA_2.prj to gadm41_NGA_2.prj\n",
            "Saving gadm41_NGA_2.shx to gadm41_NGA_2.shx\n"
          ]
        }
      ]
    },
    {
      "cell_type": "code",
      "source": [
        "# Access the filenames\n",
        "first_filename = list(uploaded1.keys())[0]\n",
        "second_filename = list(uploaded2.keys())[0]\n",
        "\n",
        "print(f\"First file: {first_filename}\")\n",
        "print(f\"Second file: {second_filename}\")"
      ],
      "metadata": {
        "colab": {
          "base_uri": "https://localhost:8080/"
        },
        "id": "SreCBmNwoWWN",
        "outputId": "6f478f08-9cb1-41a2-dd72-45b6434b4229"
      },
      "execution_count": 40,
      "outputs": [
        {
          "output_type": "stream",
          "name": "stdout",
          "text": [
            "First file: nigeria_labour_ministry_locations (4).csv\n",
            "Second file: gadm41_NGA_0.cpg\n"
          ]
        }
      ]
    },
    {
      "cell_type": "code",
      "source": [
        "import pandas as pd\n",
        "import io\n",
        "\n",
        "nelex_df = pd.read_csv(io.BytesIO(uploaded1['nigeria_labour_ministry_locations (4).csv']))\n",
        "print(nelex_df)"
      ],
      "metadata": {
        "colab": {
          "base_uri": "https://localhost:8080/"
        },
        "id": "9oScXwz1mqB-",
        "outputId": "f99dd93e-69a7-4a1f-f5fc-1d6f01ac2d5b"
      },
      "execution_count": 41,
      "outputs": [
        {
          "output_type": "stream",
          "name": "stdout",
          "text": [
            "                                         nelex_office  \\\n",
            "0   Federal Ministry of Labour and Employment, Fed...   \n",
            "1           Federal Ministry of Labour and Employment   \n",
            "2     Federal Ministry of Labour and Employment, No.5   \n",
            "3           Federal Ministry of Labour and Employment   \n",
            "4   Federal Ministry of Labour and Employment, Fed...   \n",
            "5   Federal Ministry of Labour and Employment, Fed...   \n",
            "6   Federal Ministry of Labour and Employment, 6th...   \n",
            "7       Federal Ministry of Labour and Employment, 25   \n",
            "8           Federal Ministry of Labour and Employment   \n",
            "9   Federal Ministry of Labour and Employment, Fed...   \n",
            "10  Federal Ministry of Labour and Employment, Fed...   \n",
            "11  Federal Ministry of Labour and Employment, Off...   \n",
            "12  Federal Ministry of Labour and Employment, Aft...   \n",
            "13   Federal Ministry of Labour and Employment, No. 1   \n",
            "14          Federal Ministry of Labour and Employment   \n",
            "15   Federal Ministry of Labour and Employment, No. 7   \n",
            "16       Federal Ministry of Labour and Employment, 3   \n",
            "17  Federal Ministry of Labour and Employment, Emp...   \n",
            "18          Federal Ministry of Labour and Employment   \n",
            "19          Federal Ministry of Labour and Employment   \n",
            "20  Federal Ministry of Labour and Employment, Fed...   \n",
            "21  Federal Ministry of Labour and Employment, Fed...   \n",
            "22  Federal Ministry of Labour and Employment, off...   \n",
            "23  Federal Ministry of Labour and Employment, Sec...   \n",
            "24  Federal Ministry of Labour and Employment, 2nd...   \n",
            "25  Federal Ministry of Labour and Employment, Fed...   \n",
            "26          Federal Ministry of Labour and Employment   \n",
            "27  Federal Ministry of Labour and Employment, Fed...   \n",
            "28  Federal Ministry of Labour and Employment, Fed...   \n",
            "29  Federal Ministry of Labour and Employment, Old...   \n",
            "30  Federal Ministry of Labour and Employment, Fed...   \n",
            "31                                                NaN   \n",
            "32                                                NaN   \n",
            "\n",
            "                                        nelex_address  Unnamed: 2  \n",
            "0   Sheu Shagari Way, P.M.B 04, Garki, Abuja, Nigeria         NaN  \n",
            "1   16 Dilibe Street, Amudo Village, Awka, Anambra...         NaN  \n",
            "2           Yakubu - Gowon Way, Kaduna State, Nigeria         NaN  \n",
            "3   Cardinal Olubunmi Okogie Road, Ikoyi, Lagos, P...         NaN  \n",
            "4           Okpanam Road, Asaba, Delta State, Nigeria         NaN  \n",
            "5                       Bauchi, Bauchi State, Nigeria         NaN  \n",
            "6       Aba Road, Portharcourt, Rivers State, Nigeria         NaN  \n",
            "7       Barracks Road, Calabar, Cross Rivers, Nigeria         NaN  \n",
            "8   Local Government Service Commission Premises, ...         NaN  \n",
            "9                Gashua Road, Damaturu, Yobe, Nigeria         NaN  \n",
            "10  P.M.B 7112, Sani Abacha Road, Dutse, Jigawa St...         NaN  \n",
            "11  Yakubu Gowon Way, P.M.B 2327, Near NTA, GRA, K...         NaN  \n",
            "12  Hotoro Maiduguri Road, P.M.B. 3488, Kano, Nigeria         NaN  \n",
            "13  Justice Moh`d Bello Road, GRA roundabout, P.M....         NaN  \n",
            "14  19 Murtala Moh`d Road, Tuun Wada, P.M.B. 1077,...         NaN  \n",
            "15           Dendo Road, P.M.B. 2240, Sokoto, Nigeria         NaN  \n",
            "16  FeYahaya Abdulkarim Road, Opp. Takin – Ruwa, S...         NaN  \n",
            "17  Aba Road Amuzuta Old Umuahia, P.O Box 7247, Um...         NaN  \n",
            "18  11b Ejiofor Street, P.M.B. 092, Abakaliki, Nig...         NaN  \n",
            "19   22/24 Ridgeway GRA, P.M.B. 01520, Enugu, Nigeria         NaN  \n",
            "20                         Owerri, Imo State, Nigeria         NaN  \n",
            "21  Olusegun Obasanjo Way, Uyo, Akwa-Ibom State, N...         NaN  \n",
            "22  2 Asingbi Road, Amarab-Yenagoa, Bayelsa State,...         NaN  \n",
            "23  Okpanam Road, P.O. Box 1046, Asaba, Delta Stat...         NaN  \n",
            "24  Ikpoba Slope, Benin / Auchi Expressway, Aduwaw...         NaN  \n",
            "25     Aba Road, Port Harcourt, Rivers State, Nigeria         NaN  \n",
            "26        91, Ajilosun Street, P.M.B. 4333, Ado-Ekiti         NaN  \n",
            "27  Oke Imosan, Kobape Road, P.M.B. 3048, Ibara, A...         NaN  \n",
            "28  Igba-toro Road, P.M.B 612, Akure, Ondo State, ...         NaN  \n",
            "29  Gbongan-Ibadan Road, P.M.B. 4313, Oshogbo, Osu...         NaN  \n",
            "30  Ikolaba Area, P.O. Box 26115, Secretariat, Iba...         NaN  \n",
            "31                                                NaN         NaN  \n",
            "32                                                NaN         NaN  \n"
          ]
        }
      ]
    },
    {
      "cell_type": "code",
      "source": [
        "!pip install geopy geopandas plotly\n",
        "from geopy.geocoders import Nominatim\n",
        "import geopandas as gpd\n",
        "import pandas as pd\n",
        "import plotly.express as px\n",
        "from shapely.geometry import Point\n"
      ],
      "metadata": {
        "colab": {
          "base_uri": "https://localhost:8080/"
        },
        "id": "j7HP1Rqin6T2",
        "outputId": "362847ee-92cb-4b79-f30e-235639ca3301"
      },
      "execution_count": 48,
      "outputs": [
        {
          "output_type": "stream",
          "name": "stdout",
          "text": [
            "Requirement already satisfied: geopy in /usr/local/lib/python3.10/dist-packages (2.4.1)\n",
            "Requirement already satisfied: geopandas in /usr/local/lib/python3.10/dist-packages (1.0.1)\n",
            "Requirement already satisfied: plotly in /usr/local/lib/python3.10/dist-packages (5.24.1)\n",
            "Requirement already satisfied: geographiclib<3,>=1.52 in /usr/local/lib/python3.10/dist-packages (from geopy) (2.0)\n",
            "Requirement already satisfied: numpy>=1.22 in /usr/local/lib/python3.10/dist-packages (from geopandas) (1.26.4)\n",
            "Requirement already satisfied: pyogrio>=0.7.2 in /usr/local/lib/python3.10/dist-packages (from geopandas) (0.10.0)\n",
            "Requirement already satisfied: packaging in /usr/local/lib/python3.10/dist-packages (from geopandas) (24.1)\n",
            "Requirement already satisfied: pandas>=1.4.0 in /usr/local/lib/python3.10/dist-packages (from geopandas) (2.2.2)\n",
            "Requirement already satisfied: pyproj>=3.3.0 in /usr/local/lib/python3.10/dist-packages (from geopandas) (3.7.0)\n",
            "Requirement already satisfied: shapely>=2.0.0 in /usr/local/lib/python3.10/dist-packages (from geopandas) (2.0.6)\n",
            "Requirement already satisfied: tenacity>=6.2.0 in /usr/local/lib/python3.10/dist-packages (from plotly) (9.0.0)\n",
            "Requirement already satisfied: python-dateutil>=2.8.2 in /usr/local/lib/python3.10/dist-packages (from pandas>=1.4.0->geopandas) (2.8.2)\n",
            "Requirement already satisfied: pytz>=2020.1 in /usr/local/lib/python3.10/dist-packages (from pandas>=1.4.0->geopandas) (2024.2)\n",
            "Requirement already satisfied: tzdata>=2022.7 in /usr/local/lib/python3.10/dist-packages (from pandas>=1.4.0->geopandas) (2024.2)\n",
            "Requirement already satisfied: certifi in /usr/local/lib/python3.10/dist-packages (from pyogrio>=0.7.2->geopandas) (2024.8.30)\n",
            "Requirement already satisfied: six>=1.5 in /usr/local/lib/python3.10/dist-packages (from python-dateutil>=2.8.2->pandas>=1.4.0->geopandas) (1.16.0)\n"
          ]
        }
      ]
    },
    {
      "cell_type": "code",
      "source": [
        "# Initialize geolocator\n",
        "geolocator = Nominatim(user_agent=\"nigeria_map\")\n",
        "\n",
        "# Function to geocode addresses\n",
        "def geocode_address(address):\n",
        "    try:\n",
        "        location = geolocator.geocode(address)\n",
        "        return location.latitude, location.longitude\n",
        "    except:\n",
        "        return None, None\n",
        "\n",
        "# Geocode NELEX addresses\n",
        "nelex_df[['latitude', 'longitude']] = nelex_df['nelex_address'].apply(\n",
        "    lambda x: pd.Series(geocode_address(x))\n",
        ")\n",
        "\n",
        "# Drop any rows where geocoding failed\n",
        "nelex_df.dropna(subset=['latitude', 'longitude'], inplace=True)\n",
        "\n",
        "# Convert to GeoDataFrames\n",
        "nelex_df['geometry'] = nelex_df.apply(lambda row: Point(row['longitude'], row['latitude']), axis=1)\n",
        "nelex_gdf = gpd.GeoDataFrame(nelex_df, geometry='geometry')"
      ],
      "metadata": {
        "id": "KonuJrx0o-kS"
      },
      "execution_count": 49,
      "outputs": []
    },
    {
      "cell_type": "code",
      "source": [
        "# Load Nigeria shapefile\n",
        "nigeria_gdf = gpd.read_file(\"gadm41_NGA_0.shp\")"
      ],
      "metadata": {
        "id": "zDjzlwKwthX-"
      },
      "execution_count": 45,
      "outputs": []
    },
    {
      "cell_type": "code",
      "source": [
        "# Convert geometries to latitude and longitude for Plotly\n",
        "nelex_df['lon'] = nelex_df['geometry'].apply(lambda point: point.x)\n",
        "nelex_df['lat'] = nelex_df['geometry'].apply(lambda point: point.y)\n",
        "\n",
        "# Plot using Plotly\n",
        "# Removed geojson and locations arguments, and use mapbox_style='open-street-map'\n",
        "# as originally intended in update_layout, also using lat and lon for Nigeria data\n",
        "fig = px.scatter_mapbox(\n",
        "    nigeria_gdf,  # Use nigeria_gdf for the base map\n",
        "    lat=nigeria_gdf.geometry.centroid.y,  # Latitude for Nigeria (using centroid)\n",
        "    lon=nigeria_gdf.geometry.centroid.x,  # Longitude for Nigeria (using centroid)\n",
        "    #color_discrete_sequence=[\"#E3DCDC\"], # Removing color for base map\n",
        "    center={\"lat\": 9.0820, \"lon\": 8.6753},  # Center on Nigeria\n",
        "    zoom=5,\n",
        "    mapbox_style=\"open-street-map\",  # Directly set the map style here\n",
        "    hover_data=['COUNTRY'] # Display the name of Nigeria on hover, changed from 'NAME_0' to 'COUNTRY'\n",
        ")\n",
        "\n",
        "# Add NELEX centers to the map as a separate trace\n",
        "fig.add_trace(\n",
        "    px.scatter_mapbox(\n",
        "        nelex_df,\n",
        "        lat=\"lat\",\n",
        "        lon=\"lon\",\n",
        "        color_discrete_sequence=[\"green\"], # Distinct color for NELEX markers\n",
        "        hover_data=['nelex_office'] # Display NELEX center name on hover\n",
        "    ).data[0]\n",
        ")\n",
        "\n",
        "# Update layout for better visualization\n",
        "# Remove redundant mapbox style setting\n",
        "fig.update_layout(\n",
        "    title=\"Locations of NELEX Centers in Nigeria\",\n",
        "    mapbox=dict(\n",
        "        #style=\"open-street-map\", # Already set in the px.scatter_mapbox call\n",
        "        zoom=5\n",
        "    ),\n",
        "    legend=dict(\n",
        "        title=\"Legend\",\n",
        "        orientation=\"h\"\n",
        "    )\n",
        ")\n",
        "\n",
        "fig.show()"
      ],
      "metadata": {
        "colab": {
          "base_uri": "https://localhost:8080/",
          "height": 716
        },
        "id": "P4RBfbhsqwYw",
        "outputId": "0047abc3-8948-4f9d-8bde-cbd0fba3726f"
      },
      "execution_count": 55,
      "outputs": [
        {
          "output_type": "stream",
          "name": "stderr",
          "text": [
            "<ipython-input-55-fbde84e0ff62>:10: UserWarning:\n",
            "\n",
            "Geometry is in a geographic CRS. Results from 'centroid' are likely incorrect. Use 'GeoSeries.to_crs()' to re-project geometries to a projected CRS before this operation.\n",
            "\n",
            "\n",
            "<ipython-input-55-fbde84e0ff62>:11: UserWarning:\n",
            "\n",
            "Geometry is in a geographic CRS. Results from 'centroid' are likely incorrect. Use 'GeoSeries.to_crs()' to re-project geometries to a projected CRS before this operation.\n",
            "\n",
            "\n"
          ]
        },
        {
          "output_type": "display_data",
          "data": {
            "text/html": [
              "<html>\n",
              "<head><meta charset=\"utf-8\" /></head>\n",
              "<body>\n",
              "    <div>            <script src=\"https://cdnjs.cloudflare.com/ajax/libs/mathjax/2.7.5/MathJax.js?config=TeX-AMS-MML_SVG\"></script><script type=\"text/javascript\">if (window.MathJax && window.MathJax.Hub && window.MathJax.Hub.Config) {window.MathJax.Hub.Config({SVG: {font: \"STIX-Web\"}});}</script>                <script type=\"text/javascript\">window.PlotlyConfig = {MathJaxConfig: 'local'};</script>\n",
              "        <script charset=\"utf-8\" src=\"https://cdn.plot.ly/plotly-2.35.2.min.js\"></script>                <div id=\"9b78f611-2e57-4a12-921a-46c028e9d3d2\" class=\"plotly-graph-div\" style=\"height:525px; width:100%;\"></div>            <script type=\"text/javascript\">                                    window.PLOTLYENV=window.PLOTLYENV || {};                                    if (document.getElementById(\"9b78f611-2e57-4a12-921a-46c028e9d3d2\")) {                    Plotly.newPlot(                        \"9b78f611-2e57-4a12-921a-46c028e9d3d2\",                        [{\"customdata\":[[\"Nigeria\"]],\"hovertemplate\":\"lat=%{lat}\\u003cbr\\u003elon=%{lon}\\u003cbr\\u003eCOUNTRY=%{customdata[0]}\\u003cextra\\u003e\\u003c\\u002fextra\\u003e\",\"lat\":[9.592267701675834],\"legendgroup\":\"\",\"lon\":[8.09757500646277],\"marker\":{\"color\":\"#636efa\"},\"mode\":\"markers\",\"name\":\"\",\"showlegend\":false,\"subplot\":\"mapbox\",\"type\":\"scattermapbox\"},{\"customdata\":[[\"Federal Ministry of Labour and Employment, Federal Secretariat Complex, Room 24\"],[\"Federal Ministry of Labour and Employment, Federal Secretariat Complex, Ground Floor\"],[\"Federal Ministry of Labour and Employment, Federal Secretariat Complex, 8th Floor\"],[null],[null]],\"hovertemplate\":\"lat=%{lat}\\u003cbr\\u003elon=%{lon}\\u003cbr\\u003enelex_office=%{customdata[0]}\\u003cextra\\u003e\\u003c\\u002fextra\\u003e\",\"lat\":[10.3168749,5.489736,4.8494995,46.3144754,46.3144754],\"legendgroup\":\"\",\"lon\":[9.8410189,7.0341973,7.0528722,11.0480288,11.0480288],\"marker\":{\"color\":\"green\"},\"mode\":\"markers\",\"name\":\"\",\"showlegend\":false,\"subplot\":\"mapbox\",\"type\":\"scattermapbox\"}],                        {\"template\":{\"data\":{\"histogram2dcontour\":[{\"type\":\"histogram2dcontour\",\"colorbar\":{\"outlinewidth\":0,\"ticks\":\"\"},\"colorscale\":[[0.0,\"#0d0887\"],[0.1111111111111111,\"#46039f\"],[0.2222222222222222,\"#7201a8\"],[0.3333333333333333,\"#9c179e\"],[0.4444444444444444,\"#bd3786\"],[0.5555555555555556,\"#d8576b\"],[0.6666666666666666,\"#ed7953\"],[0.7777777777777778,\"#fb9f3a\"],[0.8888888888888888,\"#fdca26\"],[1.0,\"#f0f921\"]]}],\"choropleth\":[{\"type\":\"choropleth\",\"colorbar\":{\"outlinewidth\":0,\"ticks\":\"\"}}],\"histogram2d\":[{\"type\":\"histogram2d\",\"colorbar\":{\"outlinewidth\":0,\"ticks\":\"\"},\"colorscale\":[[0.0,\"#0d0887\"],[0.1111111111111111,\"#46039f\"],[0.2222222222222222,\"#7201a8\"],[0.3333333333333333,\"#9c179e\"],[0.4444444444444444,\"#bd3786\"],[0.5555555555555556,\"#d8576b\"],[0.6666666666666666,\"#ed7953\"],[0.7777777777777778,\"#fb9f3a\"],[0.8888888888888888,\"#fdca26\"],[1.0,\"#f0f921\"]]}],\"heatmap\":[{\"type\":\"heatmap\",\"colorbar\":{\"outlinewidth\":0,\"ticks\":\"\"},\"colorscale\":[[0.0,\"#0d0887\"],[0.1111111111111111,\"#46039f\"],[0.2222222222222222,\"#7201a8\"],[0.3333333333333333,\"#9c179e\"],[0.4444444444444444,\"#bd3786\"],[0.5555555555555556,\"#d8576b\"],[0.6666666666666666,\"#ed7953\"],[0.7777777777777778,\"#fb9f3a\"],[0.8888888888888888,\"#fdca26\"],[1.0,\"#f0f921\"]]}],\"heatmapgl\":[{\"type\":\"heatmapgl\",\"colorbar\":{\"outlinewidth\":0,\"ticks\":\"\"},\"colorscale\":[[0.0,\"#0d0887\"],[0.1111111111111111,\"#46039f\"],[0.2222222222222222,\"#7201a8\"],[0.3333333333333333,\"#9c179e\"],[0.4444444444444444,\"#bd3786\"],[0.5555555555555556,\"#d8576b\"],[0.6666666666666666,\"#ed7953\"],[0.7777777777777778,\"#fb9f3a\"],[0.8888888888888888,\"#fdca26\"],[1.0,\"#f0f921\"]]}],\"contourcarpet\":[{\"type\":\"contourcarpet\",\"colorbar\":{\"outlinewidth\":0,\"ticks\":\"\"}}],\"contour\":[{\"type\":\"contour\",\"colorbar\":{\"outlinewidth\":0,\"ticks\":\"\"},\"colorscale\":[[0.0,\"#0d0887\"],[0.1111111111111111,\"#46039f\"],[0.2222222222222222,\"#7201a8\"],[0.3333333333333333,\"#9c179e\"],[0.4444444444444444,\"#bd3786\"],[0.5555555555555556,\"#d8576b\"],[0.6666666666666666,\"#ed7953\"],[0.7777777777777778,\"#fb9f3a\"],[0.8888888888888888,\"#fdca26\"],[1.0,\"#f0f921\"]]}],\"surface\":[{\"type\":\"surface\",\"colorbar\":{\"outlinewidth\":0,\"ticks\":\"\"},\"colorscale\":[[0.0,\"#0d0887\"],[0.1111111111111111,\"#46039f\"],[0.2222222222222222,\"#7201a8\"],[0.3333333333333333,\"#9c179e\"],[0.4444444444444444,\"#bd3786\"],[0.5555555555555556,\"#d8576b\"],[0.6666666666666666,\"#ed7953\"],[0.7777777777777778,\"#fb9f3a\"],[0.8888888888888888,\"#fdca26\"],[1.0,\"#f0f921\"]]}],\"mesh3d\":[{\"type\":\"mesh3d\",\"colorbar\":{\"outlinewidth\":0,\"ticks\":\"\"}}],\"scatter\":[{\"fillpattern\":{\"fillmode\":\"overlay\",\"size\":10,\"solidity\":0.2},\"type\":\"scatter\"}],\"parcoords\":[{\"type\":\"parcoords\",\"line\":{\"colorbar\":{\"outlinewidth\":0,\"ticks\":\"\"}}}],\"scatterpolargl\":[{\"type\":\"scatterpolargl\",\"marker\":{\"colorbar\":{\"outlinewidth\":0,\"ticks\":\"\"}}}],\"bar\":[{\"error_x\":{\"color\":\"#2a3f5f\"},\"error_y\":{\"color\":\"#2a3f5f\"},\"marker\":{\"line\":{\"color\":\"#E5ECF6\",\"width\":0.5},\"pattern\":{\"fillmode\":\"overlay\",\"size\":10,\"solidity\":0.2}},\"type\":\"bar\"}],\"scattergeo\":[{\"type\":\"scattergeo\",\"marker\":{\"colorbar\":{\"outlinewidth\":0,\"ticks\":\"\"}}}],\"scatterpolar\":[{\"type\":\"scatterpolar\",\"marker\":{\"colorbar\":{\"outlinewidth\":0,\"ticks\":\"\"}}}],\"histogram\":[{\"marker\":{\"pattern\":{\"fillmode\":\"overlay\",\"size\":10,\"solidity\":0.2}},\"type\":\"histogram\"}],\"scattergl\":[{\"type\":\"scattergl\",\"marker\":{\"colorbar\":{\"outlinewidth\":0,\"ticks\":\"\"}}}],\"scatter3d\":[{\"type\":\"scatter3d\",\"line\":{\"colorbar\":{\"outlinewidth\":0,\"ticks\":\"\"}},\"marker\":{\"colorbar\":{\"outlinewidth\":0,\"ticks\":\"\"}}}],\"scattermapbox\":[{\"type\":\"scattermapbox\",\"marker\":{\"colorbar\":{\"outlinewidth\":0,\"ticks\":\"\"}}}],\"scatterternary\":[{\"type\":\"scatterternary\",\"marker\":{\"colorbar\":{\"outlinewidth\":0,\"ticks\":\"\"}}}],\"scattercarpet\":[{\"type\":\"scattercarpet\",\"marker\":{\"colorbar\":{\"outlinewidth\":0,\"ticks\":\"\"}}}],\"carpet\":[{\"aaxis\":{\"endlinecolor\":\"#2a3f5f\",\"gridcolor\":\"white\",\"linecolor\":\"white\",\"minorgridcolor\":\"white\",\"startlinecolor\":\"#2a3f5f\"},\"baxis\":{\"endlinecolor\":\"#2a3f5f\",\"gridcolor\":\"white\",\"linecolor\":\"white\",\"minorgridcolor\":\"white\",\"startlinecolor\":\"#2a3f5f\"},\"type\":\"carpet\"}],\"table\":[{\"cells\":{\"fill\":{\"color\":\"#EBF0F8\"},\"line\":{\"color\":\"white\"}},\"header\":{\"fill\":{\"color\":\"#C8D4E3\"},\"line\":{\"color\":\"white\"}},\"type\":\"table\"}],\"barpolar\":[{\"marker\":{\"line\":{\"color\":\"#E5ECF6\",\"width\":0.5},\"pattern\":{\"fillmode\":\"overlay\",\"size\":10,\"solidity\":0.2}},\"type\":\"barpolar\"}],\"pie\":[{\"automargin\":true,\"type\":\"pie\"}]},\"layout\":{\"autotypenumbers\":\"strict\",\"colorway\":[\"#636efa\",\"#EF553B\",\"#00cc96\",\"#ab63fa\",\"#FFA15A\",\"#19d3f3\",\"#FF6692\",\"#B6E880\",\"#FF97FF\",\"#FECB52\"],\"font\":{\"color\":\"#2a3f5f\"},\"hovermode\":\"closest\",\"hoverlabel\":{\"align\":\"left\"},\"paper_bgcolor\":\"white\",\"plot_bgcolor\":\"#E5ECF6\",\"polar\":{\"bgcolor\":\"#E5ECF6\",\"angularaxis\":{\"gridcolor\":\"white\",\"linecolor\":\"white\",\"ticks\":\"\"},\"radialaxis\":{\"gridcolor\":\"white\",\"linecolor\":\"white\",\"ticks\":\"\"}},\"ternary\":{\"bgcolor\":\"#E5ECF6\",\"aaxis\":{\"gridcolor\":\"white\",\"linecolor\":\"white\",\"ticks\":\"\"},\"baxis\":{\"gridcolor\":\"white\",\"linecolor\":\"white\",\"ticks\":\"\"},\"caxis\":{\"gridcolor\":\"white\",\"linecolor\":\"white\",\"ticks\":\"\"}},\"coloraxis\":{\"colorbar\":{\"outlinewidth\":0,\"ticks\":\"\"}},\"colorscale\":{\"sequential\":[[0.0,\"#0d0887\"],[0.1111111111111111,\"#46039f\"],[0.2222222222222222,\"#7201a8\"],[0.3333333333333333,\"#9c179e\"],[0.4444444444444444,\"#bd3786\"],[0.5555555555555556,\"#d8576b\"],[0.6666666666666666,\"#ed7953\"],[0.7777777777777778,\"#fb9f3a\"],[0.8888888888888888,\"#fdca26\"],[1.0,\"#f0f921\"]],\"sequentialminus\":[[0.0,\"#0d0887\"],[0.1111111111111111,\"#46039f\"],[0.2222222222222222,\"#7201a8\"],[0.3333333333333333,\"#9c179e\"],[0.4444444444444444,\"#bd3786\"],[0.5555555555555556,\"#d8576b\"],[0.6666666666666666,\"#ed7953\"],[0.7777777777777778,\"#fb9f3a\"],[0.8888888888888888,\"#fdca26\"],[1.0,\"#f0f921\"]],\"diverging\":[[0,\"#8e0152\"],[0.1,\"#c51b7d\"],[0.2,\"#de77ae\"],[0.3,\"#f1b6da\"],[0.4,\"#fde0ef\"],[0.5,\"#f7f7f7\"],[0.6,\"#e6f5d0\"],[0.7,\"#b8e186\"],[0.8,\"#7fbc41\"],[0.9,\"#4d9221\"],[1,\"#276419\"]]},\"xaxis\":{\"gridcolor\":\"white\",\"linecolor\":\"white\",\"ticks\":\"\",\"title\":{\"standoff\":15},\"zerolinecolor\":\"white\",\"automargin\":true,\"zerolinewidth\":2},\"yaxis\":{\"gridcolor\":\"white\",\"linecolor\":\"white\",\"ticks\":\"\",\"title\":{\"standoff\":15},\"zerolinecolor\":\"white\",\"automargin\":true,\"zerolinewidth\":2},\"scene\":{\"xaxis\":{\"backgroundcolor\":\"#E5ECF6\",\"gridcolor\":\"white\",\"linecolor\":\"white\",\"showbackground\":true,\"ticks\":\"\",\"zerolinecolor\":\"white\",\"gridwidth\":2},\"yaxis\":{\"backgroundcolor\":\"#E5ECF6\",\"gridcolor\":\"white\",\"linecolor\":\"white\",\"showbackground\":true,\"ticks\":\"\",\"zerolinecolor\":\"white\",\"gridwidth\":2},\"zaxis\":{\"backgroundcolor\":\"#E5ECF6\",\"gridcolor\":\"white\",\"linecolor\":\"white\",\"showbackground\":true,\"ticks\":\"\",\"zerolinecolor\":\"white\",\"gridwidth\":2}},\"shapedefaults\":{\"line\":{\"color\":\"#2a3f5f\"}},\"annotationdefaults\":{\"arrowcolor\":\"#2a3f5f\",\"arrowhead\":0,\"arrowwidth\":1},\"geo\":{\"bgcolor\":\"white\",\"landcolor\":\"#E5ECF6\",\"subunitcolor\":\"white\",\"showland\":true,\"showlakes\":true,\"lakecolor\":\"white\"},\"title\":{\"x\":0.05},\"mapbox\":{\"style\":\"light\"}}},\"mapbox\":{\"domain\":{\"x\":[0.0,1.0],\"y\":[0.0,1.0]},\"center\":{\"lat\":9.082,\"lon\":8.6753},\"zoom\":5,\"style\":\"open-street-map\"},\"legend\":{\"tracegroupgap\":0,\"title\":{\"text\":\"Legend\"},\"orientation\":\"h\"},\"margin\":{\"t\":60},\"title\":{\"text\":\"Locations of NELEX Centers in Nigeria\"}},                        {\"responsive\": true}                    ).then(function(){\n",
              "                            \n",
              "var gd = document.getElementById('9b78f611-2e57-4a12-921a-46c028e9d3d2');\n",
              "var x = new MutationObserver(function (mutations, observer) {{\n",
              "        var display = window.getComputedStyle(gd).display;\n",
              "        if (!display || display === 'none') {{\n",
              "            console.log([gd, 'removed!']);\n",
              "            Plotly.purge(gd);\n",
              "            observer.disconnect();\n",
              "        }}\n",
              "}});\n",
              "\n",
              "// Listen for the removal of the full notebook cells\n",
              "var notebookContainer = gd.closest('#notebook-container');\n",
              "if (notebookContainer) {{\n",
              "    x.observe(notebookContainer, {childList: true});\n",
              "}}\n",
              "\n",
              "// Listen for the clearing of the current output cell\n",
              "var outputEl = gd.closest('.output');\n",
              "if (outputEl) {{\n",
              "    x.observe(outputEl, {childList: true});\n",
              "}}\n",
              "\n",
              "                        })                };                            </script>        </div>\n",
              "</body>\n",
              "</html>"
            ]
          },
          "metadata": {}
        }
      ]
    },
    {
      "cell_type": "code",
      "source": [],
      "metadata": {
        "id": "oTkjc6jEy3tC"
      },
      "execution_count": null,
      "outputs": []
    }
  ]
}
>>>>>>> 4baec834d7d666a3d701c6dd75471b9aea3812b5
